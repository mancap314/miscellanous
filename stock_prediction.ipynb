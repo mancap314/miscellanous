{
  "nbformat": 4,
  "nbformat_minor": 0,
  "metadata": {
    "colab": {
      "name": "stock_prediction.ipynb",
      "provenance": [],
      "authorship_tag": "ABX9TyN/hVY9HJN/5I2/q9O0ibtt",
      "include_colab_link": true
    },
    "kernelspec": {
      "name": "python3",
      "display_name": "Python 3"
    },
    "language_info": {
      "name": "python"
    }
  },
  "cells": [
    {
      "cell_type": "markdown",
      "metadata": {
        "id": "view-in-github",
        "colab_type": "text"
      },
      "source": [
        "<a href=\"https://colab.research.google.com/github/mancap314/miscellanous/blob/master/stock_prediction.ipynb\" target=\"_parent\"><img src=\"https://colab.research.google.com/assets/colab-badge.svg\" alt=\"Open In Colab\"/></a>"
      ]
    },
    {
      "cell_type": "markdown",
      "metadata": {
        "id": "k_Djzu2SAl-H"
      },
      "source": [
        "# Predict Stock price\n",
        "\n",
        "This is a notebook illustrating how to predict stock price from [Yahoo Finance](https://finance.yahoo.com/) data with a recurrent neural network."
      ]
    },
    {
      "cell_type": "code",
      "metadata": {
        "colab": {
          "base_uri": "https://localhost:8080/"
        },
        "id": "1UmAmERoB7kG",
        "outputId": "97c7c3a9-b4d8-437f-a24e-a6144440d341"
      },
      "source": [
        "# Install library for fetching Yahoo Finance data\n",
        "!pip install yfinance"
      ],
      "execution_count": 1,
      "outputs": [
        {
          "output_type": "stream",
          "text": [
            "Requirement already satisfied: yfinance in /usr/local/lib/python3.7/dist-packages (0.1.59)\n",
            "Requirement already satisfied: pandas>=0.24 in /usr/local/lib/python3.7/dist-packages (from yfinance) (1.1.5)\n",
            "Requirement already satisfied: numpy>=1.15 in /usr/local/lib/python3.7/dist-packages (from yfinance) (1.19.5)\n",
            "Requirement already satisfied: lxml>=4.5.1 in /usr/local/lib/python3.7/dist-packages (from yfinance) (4.6.3)\n",
            "Requirement already satisfied: requests>=2.20 in /usr/local/lib/python3.7/dist-packages (from yfinance) (2.23.0)\n",
            "Requirement already satisfied: multitasking>=0.0.7 in /usr/local/lib/python3.7/dist-packages (from yfinance) (0.0.9)\n",
            "Requirement already satisfied: python-dateutil>=2.7.3 in /usr/local/lib/python3.7/dist-packages (from pandas>=0.24->yfinance) (2.8.1)\n",
            "Requirement already satisfied: pytz>=2017.2 in /usr/local/lib/python3.7/dist-packages (from pandas>=0.24->yfinance) (2018.9)\n",
            "Requirement already satisfied: certifi>=2017.4.17 in /usr/local/lib/python3.7/dist-packages (from requests>=2.20->yfinance) (2020.12.5)\n",
            "Requirement already satisfied: idna<3,>=2.5 in /usr/local/lib/python3.7/dist-packages (from requests>=2.20->yfinance) (2.10)\n",
            "Requirement already satisfied: urllib3!=1.25.0,!=1.25.1,<1.26,>=1.21.1 in /usr/local/lib/python3.7/dist-packages (from requests>=2.20->yfinance) (1.24.3)\n",
            "Requirement already satisfied: chardet<4,>=3.0.2 in /usr/local/lib/python3.7/dist-packages (from requests>=2.20->yfinance) (3.0.4)\n",
            "Requirement already satisfied: six>=1.5 in /usr/local/lib/python3.7/dist-packages (from python-dateutil>=2.7.3->pandas>=0.24->yfinance) (1.15.0)\n"
          ],
          "name": "stdout"
        }
      ]
    },
    {
      "cell_type": "code",
      "metadata": {
        "id": "Et_lSzUwCEat"
      },
      "source": [
        "import yfinance as yf\n",
        "import matplotlib.pyplot as plt\n",
        "from pandas import DataFrame, Series\n",
        "from typing import Dict, List, Tuple, Union\n",
        "from numpy import array, arange, zeros\n",
        "from numpy.random import permutation, randint, uniform\n",
        "from pathlib import Path\n",
        "from datetime import datetime, timedelta\n",
        "\n",
        "plt.rcParams['figure.figsize'] = [12, 9]  # plot larger than default"
      ],
      "execution_count": 98,
      "outputs": []
    },
    {
      "cell_type": "markdown",
      "metadata": {
        "id": "6SuxbKnF25Rv"
      },
      "source": [
        "Define some constants (adapt the values to your use case):"
      ]
    },
    {
      "cell_type": "code",
      "metadata": {
        "id": "dUmkwqnnETdz"
      },
      "source": [
        "stock = 'AAPL'\n",
        "# Train model with daily data between `start` and `end`\n",
        "start = '2017-01-01'\n",
        "end = '2020-12-31'\n",
        "target = 'Close'\n",
        "# We will use the `n_prior` previous days to predict the nex `n_to_predict` days\n",
        "n_prior = 28\n",
        "n_to_predict = 7\n",
        "# Proportion of validation and test data\n",
        "p_val = .1\n",
        "p_test = .2 "
      ],
      "execution_count": 3,
      "outputs": []
    },
    {
      "cell_type": "markdown",
      "metadata": {
        "id": "ueSqgtuxDe1C"
      },
      "source": [
        "## Fetching data\n",
        "Fetch data directly from the *yfinance* library"
      ]
    },
    {
      "cell_type": "code",
      "metadata": {
        "colab": {
          "base_uri": "https://localhost:8080/"
        },
        "id": "S-HD3SLCApHj",
        "outputId": "557cb66d-ea0d-4330-e121-7acd2b48dc7e"
      },
      "source": [
        "data = yf.download(tickers=stock, period='1d', start=start, end=end)"
      ],
      "execution_count": 4,
      "outputs": [
        {
          "output_type": "stream",
          "text": [
            "\r[*********************100%***********************]  1 of 1 completed\n"
          ],
          "name": "stdout"
        }
      ]
    },
    {
      "cell_type": "code",
      "metadata": {
        "colab": {
          "base_uri": "https://localhost:8080/",
          "height": 455
        },
        "id": "BMuJUezaBOlG",
        "outputId": "36043ebf-73c8-4291-f571-8f41a5e89b80"
      },
      "source": [
        "data"
      ],
      "execution_count": 5,
      "outputs": [
        {
          "output_type": "execute_result",
          "data": {
            "text/html": [
              "<div>\n",
              "<style scoped>\n",
              "    .dataframe tbody tr th:only-of-type {\n",
              "        vertical-align: middle;\n",
              "    }\n",
              "\n",
              "    .dataframe tbody tr th {\n",
              "        vertical-align: top;\n",
              "    }\n",
              "\n",
              "    .dataframe thead th {\n",
              "        text-align: right;\n",
              "    }\n",
              "</style>\n",
              "<table border=\"1\" class=\"dataframe\">\n",
              "  <thead>\n",
              "    <tr style=\"text-align: right;\">\n",
              "      <th></th>\n",
              "      <th>Open</th>\n",
              "      <th>High</th>\n",
              "      <th>Low</th>\n",
              "      <th>Close</th>\n",
              "      <th>Adj Close</th>\n",
              "      <th>Volume</th>\n",
              "    </tr>\n",
              "    <tr>\n",
              "      <th>Date</th>\n",
              "      <th></th>\n",
              "      <th></th>\n",
              "      <th></th>\n",
              "      <th></th>\n",
              "      <th></th>\n",
              "      <th></th>\n",
              "    </tr>\n",
              "  </thead>\n",
              "  <tbody>\n",
              "    <tr>\n",
              "      <th>2017-01-03</th>\n",
              "      <td>28.950001</td>\n",
              "      <td>29.082500</td>\n",
              "      <td>28.690001</td>\n",
              "      <td>29.037500</td>\n",
              "      <td>27.413372</td>\n",
              "      <td>115127600</td>\n",
              "    </tr>\n",
              "    <tr>\n",
              "      <th>2017-01-04</th>\n",
              "      <td>28.962500</td>\n",
              "      <td>29.127501</td>\n",
              "      <td>28.937500</td>\n",
              "      <td>29.004999</td>\n",
              "      <td>27.382690</td>\n",
              "      <td>84472400</td>\n",
              "    </tr>\n",
              "    <tr>\n",
              "      <th>2017-01-05</th>\n",
              "      <td>28.980000</td>\n",
              "      <td>29.215000</td>\n",
              "      <td>28.952499</td>\n",
              "      <td>29.152500</td>\n",
              "      <td>27.521944</td>\n",
              "      <td>88774400</td>\n",
              "    </tr>\n",
              "    <tr>\n",
              "      <th>2017-01-06</th>\n",
              "      <td>29.195000</td>\n",
              "      <td>29.540001</td>\n",
              "      <td>29.117500</td>\n",
              "      <td>29.477501</td>\n",
              "      <td>27.828764</td>\n",
              "      <td>127007600</td>\n",
              "    </tr>\n",
              "    <tr>\n",
              "      <th>2017-01-09</th>\n",
              "      <td>29.487499</td>\n",
              "      <td>29.857500</td>\n",
              "      <td>29.485001</td>\n",
              "      <td>29.747499</td>\n",
              "      <td>28.083660</td>\n",
              "      <td>134247600</td>\n",
              "    </tr>\n",
              "    <tr>\n",
              "      <th>...</th>\n",
              "      <td>...</td>\n",
              "      <td>...</td>\n",
              "      <td>...</td>\n",
              "      <td>...</td>\n",
              "      <td>...</td>\n",
              "      <td>...</td>\n",
              "    </tr>\n",
              "    <tr>\n",
              "      <th>2020-12-23</th>\n",
              "      <td>132.160004</td>\n",
              "      <td>132.429993</td>\n",
              "      <td>130.779999</td>\n",
              "      <td>130.960007</td>\n",
              "      <td>130.542862</td>\n",
              "      <td>88223700</td>\n",
              "    </tr>\n",
              "    <tr>\n",
              "      <th>2020-12-24</th>\n",
              "      <td>131.320007</td>\n",
              "      <td>133.460007</td>\n",
              "      <td>131.100006</td>\n",
              "      <td>131.970001</td>\n",
              "      <td>131.549637</td>\n",
              "      <td>54930100</td>\n",
              "    </tr>\n",
              "    <tr>\n",
              "      <th>2020-12-28</th>\n",
              "      <td>133.990005</td>\n",
              "      <td>137.339996</td>\n",
              "      <td>133.509995</td>\n",
              "      <td>136.690002</td>\n",
              "      <td>136.254608</td>\n",
              "      <td>124486200</td>\n",
              "    </tr>\n",
              "    <tr>\n",
              "      <th>2020-12-29</th>\n",
              "      <td>138.050003</td>\n",
              "      <td>138.789993</td>\n",
              "      <td>134.339996</td>\n",
              "      <td>134.869995</td>\n",
              "      <td>134.440399</td>\n",
              "      <td>121047300</td>\n",
              "    </tr>\n",
              "    <tr>\n",
              "      <th>2020-12-30</th>\n",
              "      <td>135.580002</td>\n",
              "      <td>135.990005</td>\n",
              "      <td>133.399994</td>\n",
              "      <td>133.720001</td>\n",
              "      <td>133.294067</td>\n",
              "      <td>96452100</td>\n",
              "    </tr>\n",
              "  </tbody>\n",
              "</table>\n",
              "<p>1006 rows × 6 columns</p>\n",
              "</div>"
            ],
            "text/plain": [
              "                  Open        High  ...   Adj Close     Volume\n",
              "Date                                ...                       \n",
              "2017-01-03   28.950001   29.082500  ...   27.413372  115127600\n",
              "2017-01-04   28.962500   29.127501  ...   27.382690   84472400\n",
              "2017-01-05   28.980000   29.215000  ...   27.521944   88774400\n",
              "2017-01-06   29.195000   29.540001  ...   27.828764  127007600\n",
              "2017-01-09   29.487499   29.857500  ...   28.083660  134247600\n",
              "...                ...         ...  ...         ...        ...\n",
              "2020-12-23  132.160004  132.429993  ...  130.542862   88223700\n",
              "2020-12-24  131.320007  133.460007  ...  131.549637   54930100\n",
              "2020-12-28  133.990005  137.339996  ...  136.254608  124486200\n",
              "2020-12-29  138.050003  138.789993  ...  134.440399  121047300\n",
              "2020-12-30  135.580002  135.990005  ...  133.294067   96452100\n",
              "\n",
              "[1006 rows x 6 columns]"
            ]
          },
          "metadata": {
            "tags": []
          },
          "execution_count": 5
        }
      ]
    },
    {
      "cell_type": "markdown",
      "metadata": {
        "id": "rJ3v3bHhD4YX"
      },
      "source": [
        "We want only the `target` values:"
      ]
    },
    {
      "cell_type": "code",
      "metadata": {
        "id": "Rk5S7Px-BV_R"
      },
      "source": [
        "data = data[[target]]"
      ],
      "execution_count": 6,
      "outputs": []
    },
    {
      "cell_type": "code",
      "metadata": {
        "colab": {
          "base_uri": "https://localhost:8080/",
          "height": 538
        },
        "id": "_alp-YAED-lM",
        "outputId": "da0d697e-1ed3-4d28-9427-00ee4c75b271"
      },
      "source": [
        "data.plot()\n",
        "plt.xlabel(f'Date')\n",
        "plt.ylabel(f'{stock} price ($)')\n",
        "plt.title(f'{stock} price between {start} and {end}')\n",
        "plt.show()"
      ],
      "execution_count": 7,
      "outputs": [
        {
          "output_type": "display_data",
          "data": {
            "image/png": "[encoded data removed]",
            "text/plain": [
              "<Figure size 864x648 with 1 Axes>"
            ]
          },
          "metadata": {
            "tags": [],
            "needs_background": "light"
          }
        }
      ]
    },
    {
      "cell_type": "markdown",
      "metadata": {
        "id": "AULpGIBSIqb2"
      },
      "source": [
        "## Prepare training data\n",
        "First we define a function `build_x_y()` that will take slices from the column `target` of `data`. Each slice will be split into a range of `n_prior` days for `X` and the following `n_to_predict` day for `y`.\n",
        "\n",
        "### Create `X` and `y`"
      ]
    },
    {
      "cell_type": "code",
      "metadata": {
        "id": "x9OKE8gyGllO"
      },
      "source": [
        "def build_x_y(data: DataFrame, target: str = 'Close',  n_prior: int = 21, \n",
        "              n_to_predict: int = 14) -> Tuple[array, array]:\n",
        "    \"\"\" Split `df` into X and y. X is a 2-dimensional numpy array. The first \n",
        "    dimension corresponds to the sample, the second to the sequence in a sample \n",
        "    and the third to the features in each element of the sequence. `y` is a \n",
        "    2-dimensional array, the first is for the samples and the second for the \n",
        "    output values of the corresponding sequence.\n",
        "\n",
        "    Args:\n",
        "        data (DataFrame): Preprocessed input dataset\n",
        "        target (str, optional): Column name of the target variable in `data`. \n",
        "            Defaults to 'Close'.\n",
        "        n_prior (int, optional): Number of days in the past used in each sample\n",
        "           of the training dataset. Defaults to 21.\n",
        "        n_to_predict (int, optional): Numbers of day to predict ahead. \n",
        "            Defaults to 14.\n",
        "\n",
        "    Returns:\n",
        "        Tuple[array, array]: Input and output corresponding to the preprocessed \n",
        "          samples in `data`.\n",
        "    \"\"\"\n",
        "    n = n_prior + n_to_predict  # batch \"width\"\n",
        "    s0, s1 = data.shape[0], data.shape[1]\n",
        "    s = s0 - n  # size of training data\n",
        "\n",
        "    X, y = zeros(shape=(s, n_prior, s1)), zeros(shape=(s, n_to_predict))\n",
        "    shuffled_order = permutation(arange(0, s, 1)) # shuffle data directly\n",
        "    for i in shuffled_order:\n",
        "        X[i] = data.iloc[i: i + n_prior,:].values\n",
        "        y[i] = data[target][i + n_prior: i + n]\n",
        "        # Normalize each batch individually\n",
        "        min_value, max_value = X[i].min(), X[i].max()\n",
        "        X[i] = (X[i] - min_value) / (max_value - min_value) \n",
        "        y[i] = (y[i] - min_value) / (max_value - min_value)\n",
        "        \n",
        "    return X, y"
      ],
      "execution_count": 8,
      "outputs": []
    },
    {
      "cell_type": "code",
      "metadata": {
        "id": "Vm-lTZg8H74L"
      },
      "source": [
        "X, y = build_x_y(data=data, target='Close', n_prior=n_prior, n_to_predict=n_to_predict)"
      ],
      "execution_count": 9,
      "outputs": []
    },
    {
      "cell_type": "markdown",
      "metadata": {
        "id": "ZK-WLxOALyEe"
      },
      "source": [
        "### Split `X` and `y`\n",
        "Compute where to split `X` and `y` to obtain a proportion `p_val` of validation data and `p_test` of test data:"
      ]
    },
    {
      "cell_type": "code",
      "metadata": {
        "id": "C8TEgt2RJ9hQ"
      },
      "source": [
        "def get_split_inds(size: int, p_val: float = .1, p_test: float = .2, \n",
        "                   do_shuffle: bool = False) -> Tuple[array, array, array]:\n",
        "    \"\"\" Compute indices corresponding to the random splitting of `size` samples in train, validation and test sets \n",
        "    with size corresponding to `p_test` and `p_val`.\n",
        "\n",
        "    Args:\n",
        "        size (int): Number of samples in the dataset to split.\n",
        "        p_val (float, optional): Proportion of validation data in the split. Defaults to .1.\n",
        "        p_test (float, optional): Proportion of test data in the split. Defaults to .2.\n",
        "\n",
        "    Returns:\n",
        "        Tuple[array, array, array]: Three arrays corresponding to the indices of the train, validation and test sets.\n",
        "    \"\"\"\n",
        "    indices = arange(0, size, 1)\n",
        "    if do_shuffle:\n",
        "      indices = permutation(indices)\n",
        "\n",
        "    val_split_ind = round(size * (1 - p_test - p_val))\n",
        "    test_split_ind = round(size * (1 - p_test))\n",
        "\n",
        "    train_inds = indices[:val_split_ind]\n",
        "    val_inds = indices[val_split_ind: test_split_ind]\n",
        "    test_inds = indices[test_split_ind:]\n",
        "    \n",
        "    return train_inds, val_inds, test_inds"
      ],
      "execution_count": 10,
      "outputs": []
    },
    {
      "cell_type": "code",
      "metadata": {
        "id": "FI4jBHsRMIbK"
      },
      "source": [
        "size = X.shape[0]\n",
        "train_inds, val_inds, test_inds = get_split_inds(size=size, p_val=p_val, p_test=p_test)\n",
        "X_train, X_val, X_test = X[train_inds], X[val_inds], X[test_inds]\n",
        "y_train, y_val, y_test = y[train_inds], y[val_inds], y[test_inds]"
      ],
      "execution_count": 11,
      "outputs": []
    },
    {
      "cell_type": "markdown",
      "metadata": {
        "id": "NS7Xdc0gPCvk"
      },
      "source": [
        "## Modelization\n",
        "\n"
      ]
    },
    {
      "cell_type": "code",
      "metadata": {
        "id": "av1lwHsSp1BT"
      },
      "source": [
        "from tensorflow.keras.layers import Input, GRU, Lambda, Dense, Dropout\n",
        "from tensorflow.keras.models import Model\n",
        "from tensorflow.keras.callbacks import EarlyStopping, LearningRateScheduler, History\n",
        "from tensorflow.keras.optimizers import Adam\n",
        "from tensorflow.keras.losses import Huber\n",
        "from tensorflow.keras.metrics import MeanAbsolutePercentageError\n",
        "from tensorflow import expand_dims, matmul\n",
        "from tensorflow.nn import softmax"
      ],
      "execution_count": 12,
      "outputs": []
    },
    {
      "cell_type": "markdown",
      "metadata": {
        "id": "nQUgua962_0j"
      },
      "source": [
        "Define some model trainin specific constants:"
      ]
    },
    {
      "cell_type": "code",
      "metadata": {
        "id": "bIEPvilITFA_"
      },
      "source": [
        "n_recurrent_units = 100  # size of the recurrent layers\n",
        "n_dense_units = 64  # size of the final dense layer\n",
        "scale = .05  # scale for attention layer\n",
        "lr = 1e-2  # learning rate\n",
        "dr = .9  # decay rate\n",
        "max_epochs = 300\n",
        "patience = 10\n",
        "batch_size = 32\n",
        "model_path = None  # if None: will not be persisted\n"
      ],
      "execution_count": 40,
      "outputs": []
    },
    {
      "cell_type": "markdown",
      "metadata": {
        "id": "SjNnh9yPTAc1"
      },
      "source": [
        "Define a function to provide a deep recurrent model:"
      ]
    },
    {
      "cell_type": "code",
      "metadata": {
        "id": "ushSAEhMOs4W"
      },
      "source": [
        "def attention_seq(query_value, scale):\n",
        "    \"\"\" Define time series specific attention layer\n",
        "    see: https://stackoverflow.com/questions/61757475/sequence-to-sequence-for-time-series-prediction \"\"\"\n",
        "    query, value = query_value\n",
        "    score = matmul(query, value, transpose_b=True) # (batch, timestamp, 1)\n",
        "    score = scale * score # scale with a fixed number (it can be finetuned or learned during train)\n",
        "    score = softmax(score, axis=1) # softmax on timestamp axis\n",
        "    score = score * query # (batch, timestamp, feat)\n",
        "    return score\n",
        "\n",
        "\n",
        "def get_model(n_prior: int, n_features: int, n_to_predict: int, scale: float = .05,\n",
        "              n_recurrent_units: int = 100, n_dense_units=62) -> Model:\n",
        "    \"\"\" Build and return a recurrent auto-encoder model for predicting.\n",
        "\n",
        "    Args:\n",
        "        n_prior (int): number of days in the past used in each sample of the training dataset.\n",
        "        n_features (int): number of  (columns) in the input dataset.\n",
        "        n_to_predict (int): numbers of day to predict ahead\n",
        "        n_units (int): size of the recurrent layer\n",
        "\n",
        "    Returns:\n",
        "        tf.keras.models.Model: reccurent auto-encoder model for predicting\n",
        "    \"\"\"\n",
        "    inp = Input((n_prior, n_features))\n",
        "    seq, state = GRU(n_recurrent_units, activation='relu',\n",
        "                    return_state=True, return_sequences=True)(inp)\n",
        "    att = Lambda(attention_seq, arguments={'scale': scale})([seq, expand_dims(state, 1)])\n",
        "    x = GRU(n_recurrent_units, activation='relu')(att)\n",
        "    x = Dense(n_dense_units, activation='relu')(x)\n",
        "    x = Dropout(0.2)(x)\n",
        "    out = Dense(n_to_predict)(x)\n",
        "\n",
        "    model = Model(inp, out)\n",
        "    return model"
      ],
      "execution_count": 86,
      "outputs": []
    },
    {
      "cell_type": "markdown",
      "metadata": {
        "id": "LD6Oe7SwRBgv"
      },
      "source": [
        "Define a function for training the model:"
      ]
    },
    {
      "cell_type": "code",
      "metadata": {
        "id": "7DSZzfXCMwu6"
      },
      "source": [
        "def train_persist_model(model: Model, X_train: DataFrame, X_val: DataFrame, X_test: DataFrame, y_train: Series,\n",
        "                        y_val: Series, y_test: Series, model_name: str, model_path: Union[str, Path, None], lr: float = 1e-3, dr: float = .99, \n",
        "                        max_epochs: int = 300, patience: int = 10, batch_size: int = 32, plot: bool = True, verbose: int = 0) -> None:\n",
        "    \"\"\" Train and persist a model for predicting.\n",
        "\n",
        "    Args:\n",
        "        model (tf.keras.models.Model): Tensorflow Keras model to train and persist\n",
        "        X_train (DataFrame): Training input dataset corresponding to past data with their features\n",
        "        X_val (DataFrame): Validation input dataset. Used at each batch to monitor model performance.\n",
        "        X_test (DataFrame): Test input dataset, for measuring model performance after training.\n",
        "        y_train (Series): Training output ground truth\n",
        "        y_val (Series): Validation output ground truth\n",
        "        y_test (Series): Test output ground truth.\n",
        "        model_name (str): name of the model\n",
        "        model_path (Union[str, Path]): Path under which the model will be persisted. If None, the model will not be persisted.\n",
        "        lr (float, optional): Learning rate for the optimizer training the model. Defaults to 1e-3.\n",
        "        dr (float, optional): Decay rate for the learning rate. Defaults to .99.\n",
        "        max_epochs (int, optional): Max. number of epochs for training the model. Defaults to 300.\n",
        "        patience (int, optional): number of epochs without improvement of val_loss before stopping\n",
        "        batch_size (int, optional): Number of training data samples in each batch. Defaults to 32.\n",
        "        plot (bool, optional): If to generate and persist plot corresponding to the training history. Defaults to True.\n",
        "        verbose (int, optional): If to print details during the training. Defaults to 0.\n",
        "    \"\"\"\n",
        "    reduce_lr = LearningRateScheduler(lambda x: lr * dr ** x)\n",
        "    early_stopping = EarlyStopping(monitor='val_loss',\n",
        "                                   patience=patience,\n",
        "                                   mode='min',\n",
        "                                   restore_best_weights=True)\n",
        "\n",
        "\n",
        "    model.compile(optimizer=Adam(),\n",
        "                loss='mse',\n",
        "                metrics=[MeanAbsolutePercentageError()])\n",
        "\n",
        "    history = model.fit(X_train, y_train, \n",
        "                        epochs=max_epochs, \n",
        "                        validation_data=(X_val, y_val),\n",
        "                        batch_size=batch_size,\n",
        "                        verbose=verbose,\n",
        "                        callbacks=[reduce_lr, early_stopping])\n",
        "\n",
        "    if plot:\n",
        "        plot_training(history=history, model_name=model_name)\n",
        "    \n",
        "    if model_path:\n",
        "      model.save(model_path)\n",
        "      print(f'INFO: model {model_path} saved under {model_path}')\n",
        "\n",
        "    results = model.evaluate(X_test, y_test)\n",
        "    test_loss, test_mape = results[0], results[1]\n",
        "    print(f'INFO: model evaluation on test data:\\n\\tloss: {test_loss}\\n\\tMAPE: {test_mape}')\n",
        "    return test_mape"
      ],
      "execution_count": 87,
      "outputs": []
    },
    {
      "cell_type": "markdown",
      "metadata": {
        "id": "V8TFkjbPSHnq"
      },
      "source": [
        "And finally, define a function to plot the model training:"
      ]
    },
    {
      "cell_type": "code",
      "metadata": {
        "id": "e3RqRCYRRLd9"
      },
      "source": [
        "def plot_training(history: History, model_name: str) -> None:\n",
        "    \"\"\" Plot history of model training. The model must contain MAE as a metric.\n",
        "        Saves the plot in the folder `plots_dir` defined in *parameters.py* under the name `model_name`.jpg\n",
        "    Args:\n",
        "        history (tf.keras.callbacks.History): model history resulting from `.fit()`\n",
        "        model_name (str): [description]\n",
        "    \"\"\"\n",
        "    fig, (ax1, ax2) = plt.subplots(2)\n",
        "    fig.suptitle(f'{model_name} training')\n",
        "    \n",
        "    ax1.plot(history.history['mean_absolute_percentage_error'])\n",
        "    ax1.plot(history.history['val_mean_absolute_percentage_error'])\n",
        "    ax1.set_title(f'{model_name} mean_absolute_percentage_error')\n",
        "    ax1.set(xlabel='epoch', ylabel='mean_absolute_error')\n",
        "    ax1.legend(['train', 'val'], loc='upper left')\n",
        "    # summarize history for loss\n",
        "    ax2.plot(history.history['loss'])\n",
        "    ax2.plot(history.history['val_loss'])\n",
        "    ax2.set_title(f'{model_name} loss')\n",
        "    ax2.set(xlabel='epoch', ylabel='loss')\n",
        "    ax2.legend(['train', 'val'], loc='upper left')\n",
        "    \n",
        "    plt.show()"
      ],
      "execution_count": 75,
      "outputs": []
    },
    {
      "cell_type": "markdown",
      "metadata": {
        "id": "v6iG2mDQWMF2"
      },
      "source": [
        "Now combine all this to train the model:"
      ]
    },
    {
      "cell_type": "code",
      "metadata": {
        "colab": {
          "base_uri": "https://localhost:8080/"
        },
        "id": "R_-w5MkOSOEh",
        "outputId": "314f2e7b-2ec8-4a0f-bd38-8b5d8f6d1d11"
      },
      "source": [
        "model = get_model(n_prior=n_prior, n_features=1, n_to_predict=n_to_predict, scale=scale, n_recurrent_units=n_recurrent_units, n_dense_units=n_dense_units)\n",
        "model.summary()"
      ],
      "execution_count": 44,
      "outputs": [
        {
          "output_type": "stream",
          "text": [
            "Model: \"model_2\"\n",
            "__________________________________________________________________________________________________\n",
            "Layer (type)                    Output Shape         Param #     Connected to                     \n",
            "==================================================================================================\n",
            "input_3 (InputLayer)            [(None, 28, 1)]      0                                            \n",
            "__________________________________________________________________________________________________\n",
            "gru_4 (GRU)                     [(None, 28, 100), (N 30900       input_3[0][0]                    \n",
            "__________________________________________________________________________________________________\n",
            "tf.expand_dims_2 (TFOpLambda)   (None, 1, 100)       0           gru_4[0][1]                      \n",
            "__________________________________________________________________________________________________\n",
            "lambda_2 (Lambda)               (None, 28, 100)      0           gru_4[0][0]                      \n",
            "                                                                 tf.expand_dims_2[0][0]           \n",
            "__________________________________________________________________________________________________\n",
            "gru_5 (GRU)                     (None, 100)          60600       lambda_2[0][0]                   \n",
            "__________________________________________________________________________________________________\n",
            "dense_4 (Dense)                 (None, 64)           6464        gru_5[0][0]                      \n",
            "__________________________________________________________________________________________________\n",
            "dropout_2 (Dropout)             (None, 64)           0           dense_4[0][0]                    \n",
            "__________________________________________________________________________________________________\n",
            "dense_5 (Dense)                 (None, 7)            455         dropout_2[0][0]                  \n",
            "==================================================================================================\n",
            "Total params: 98,419\n",
            "Trainable params: 98,419\n",
            "Non-trainable params: 0\n",
            "__________________________________________________________________________________________________\n"
          ],
          "name": "stdout"
        }
      ]
    },
    {
      "cell_type": "code",
      "metadata": {
        "colab": {
          "base_uri": "https://localhost:8080/",
          "height": 1000
        },
        "id": "ZfqW9WHZeEbI",
        "outputId": "b3c27cad-03c0-44ef-8909-38c13e2e8e16"
      },
      "source": [
        "train_persist_model(model=model, X_train=X_train, X_val=X_val, X_test=X_test, \n",
        "                    y_train=y_train, y_val=y_val, y_test=y_test, \n",
        "                    model_name=f'{stock} {target} price', model_path=model_path, lr=lr, dr=dr,\n",
        "                    max_epochs=max_epochs, patience=patience, \n",
        "                    batch_size=batch_size, plot=True, verbose=1)"
      ],
      "execution_count": 45,
      "outputs": [
        {
          "output_type": "stream",
          "text": [
            "Epoch 1/300\n",
            "22/22 [==============================] - 4s 64ms/step - loss: 0.4471 - mean_absolute_percentage_error: 189.4344 - val_loss: 0.3758 - val_mean_absolute_percentage_error: 198.4111\n",
            "Epoch 2/300\n",
            "22/22 [==============================] - 1s 48ms/step - loss: 0.2494 - mean_absolute_percentage_error: 260.7084 - val_loss: 0.3536 - val_mean_absolute_percentage_error: 179.2737\n",
            "Epoch 3/300\n",
            "22/22 [==============================] - 1s 45ms/step - loss: 0.2140 - mean_absolute_percentage_error: 241.2526 - val_loss: 0.2977 - val_mean_absolute_percentage_error: 172.6529\n",
            "Epoch 4/300\n",
            "22/22 [==============================] - 1s 46ms/step - loss: 0.1748 - mean_absolute_percentage_error: 207.6796 - val_loss: 0.2444 - val_mean_absolute_percentage_error: 132.6323\n",
            "Epoch 5/300\n",
            "22/22 [==============================] - 1s 47ms/step - loss: 0.1420 - mean_absolute_percentage_error: 148.4812 - val_loss: 0.1966 - val_mean_absolute_percentage_error: 105.2325\n",
            "Epoch 6/300\n",
            "22/22 [==============================] - 1s 46ms/step - loss: 0.1357 - mean_absolute_percentage_error: 127.9917 - val_loss: 0.2079 - val_mean_absolute_percentage_error: 103.5835\n",
            "Epoch 7/300\n",
            "22/22 [==============================] - 1s 45ms/step - loss: 0.1381 - mean_absolute_percentage_error: 126.3681 - val_loss: 0.2093 - val_mean_absolute_percentage_error: 116.1705\n",
            "Epoch 8/300\n",
            "22/22 [==============================] - 1s 46ms/step - loss: 0.1294 - mean_absolute_percentage_error: 120.9273 - val_loss: 0.2072 - val_mean_absolute_percentage_error: 104.6639\n",
            "Epoch 9/300\n",
            "22/22 [==============================] - 1s 47ms/step - loss: 0.1255 - mean_absolute_percentage_error: 113.4980 - val_loss: 0.2032 - val_mean_absolute_percentage_error: 106.3578\n",
            "Epoch 10/300\n",
            "22/22 [==============================] - 1s 46ms/step - loss: 0.1263 - mean_absolute_percentage_error: 121.2295 - val_loss: 0.2020 - val_mean_absolute_percentage_error: 107.0832\n",
            "Epoch 11/300\n",
            "22/22 [==============================] - 1s 46ms/step - loss: 0.1324 - mean_absolute_percentage_error: 119.1936 - val_loss: 0.2095 - val_mean_absolute_percentage_error: 110.6494\n",
            "Epoch 12/300\n",
            "22/22 [==============================] - 1s 49ms/step - loss: 0.1269 - mean_absolute_percentage_error: 113.3369 - val_loss: 0.2040 - val_mean_absolute_percentage_error: 116.0194\n",
            "Epoch 13/300\n",
            "22/22 [==============================] - 1s 46ms/step - loss: 0.1256 - mean_absolute_percentage_error: 122.5837 - val_loss: 0.1994 - val_mean_absolute_percentage_error: 109.6693\n",
            "Epoch 14/300\n",
            "22/22 [==============================] - 1s 47ms/step - loss: 0.1221 - mean_absolute_percentage_error: 111.9271 - val_loss: 0.1978 - val_mean_absolute_percentage_error: 110.3121\n",
            "Epoch 15/300\n",
            "22/22 [==============================] - 1s 48ms/step - loss: 0.1201 - mean_absolute_percentage_error: 111.0557 - val_loss: 0.1985 - val_mean_absolute_percentage_error: 113.1838\n"
          ],
          "name": "stdout"
        },
        {
          "output_type": "display_data",
          "data": {
            "image/png": "[encoded data removed]",
            "text/plain": [
              "<Figure size 864x648 with 2 Axes>"
            ]
          },
          "metadata": {
            "tags": [],
            "needs_background": "light"
          }
        },
        {
          "output_type": "stream",
          "text": [
            "7/7 [==============================] - 0s 12ms/step - loss: 0.0982 - mean_absolute_percentage_error: 41.5198\n",
            "INFO: model evaluation on test data:\n",
            "\tloss: 0.09820931404829025\n",
            "\tMAPE: 41.51980209350586\n"
          ],
          "name": "stdout"
        }
      ]
    },
    {
      "cell_type": "markdown",
      "metadata": {
        "id": "RLU2WLLmVChL"
      },
      "source": [
        "## Grid search optimal model and training hyperparameters"
      ]
    },
    {
      "cell_type": "code",
      "metadata": {
        "id": "c1SMz74BVNKk"
      },
      "source": [
        "def evaluate_hp(hp: Dict):\n",
        "  model = get_model(n_prior=n_prior, n_features=1, n_to_predict=n_to_predict,\n",
        "              scale = hp.get('scale'),\n",
        "              n_recurrent_units=hp.get('n_recurrent_units'), \n",
        "              n_dense_units=hp.get('n_dense_units'))\n",
        "  error = train_persist_model(model=model, X_train=X_train, X_val=X_val, X_test=X_test, \n",
        "                    y_train=y_train, y_val=y_val, y_test=y_test, \n",
        "                    model_name=f'{stock} {target} price', model_path=None, \n",
        "                    lr=hp.get('lr'), dr=hp.get('dr'),\n",
        "                    max_epochs=max_epochs, patience=patience, \n",
        "                    batch_size=batch_size, plot=False, verbose=0)\n",
        "  return error\n",
        "  \n",
        "\n",
        "def random_grid_search(n_trials: int = 100, \n",
        "                        n_recurrent_units_min: int = 10, \n",
        "                        n_recurrent_units_max: int = 100, \n",
        "                        n_dense_units_min: int = 20, \n",
        "                        n_dense_units_max: int = 100,\n",
        "                        scale_min: float = .01, scale_max: float = .1,\n",
        "                        lr_min: float = 1e-4, lr_max: float = 1e-1, \n",
        "                        dr_min: float = 0.8, dr_max: float = 0.999):\n",
        "  mapping = {'n_recurrent_units': [n_recurrent_units_min, n_recurrent_units_max, 'int'], \n",
        "              'n_dense_units': [n_dense_units_min, n_dense_units_max, 'int'],\n",
        "              'scale': [scale_min, scale_max, 'float'],\n",
        "              'lr': [lr_min, lr_max, 'float'], \n",
        "              'dr': [dr_min, dr_max, 'float']}\n",
        "  res = []\n",
        "  for _ in range(n_trials):\n",
        "    hp = dict()\n",
        "    for name, parameters in mapping.items():\n",
        "      if parameters[2] == 'int':\n",
        "        value = int(randint(low=parameters[0], high=parameters[1]))\n",
        "      else:\n",
        "        value = uniform(low=parameters[0], high=parameters[1])\n",
        "      hp[name] = value\n",
        "    print(f'INFO: trying {hp}...')\n",
        "    error = evaluate_hp(hp)\n",
        "    print(f'INFO: error: {error}')\n",
        "    res.append({'hp': hp, 'error': error})\n",
        "  return res\n",
        "  "
      ],
      "execution_count": 83,
      "outputs": []
    },
    {
      "cell_type": "markdown",
      "metadata": {
        "id": "WHPe1E-Ub3V4"
      },
      "source": [
        "Define parameters for random grid search:"
      ]
    },
    {
      "cell_type": "code",
      "metadata": {
        "id": "AsqcW-iTboTP"
      },
      "source": [
        "n_trials = 100\n",
        "n_recurrent_units_min = 10, \n",
        "n_recurrent_units_max = 100, \n",
        "n_dense_units_min = 20\n",
        "n_dense_units_max = 100\n",
        "scale_min = .01\n",
        "scale_max = .1\n",
        "lr_min = 1e-4\n",
        "lr_max = 1e-1\n",
        "dr_min = 0.8\n",
        "dr_max = 0.999"
      ],
      "execution_count": 84,
      "outputs": []
    },
    {
      "cell_type": "code",
      "metadata": {
        "colab": {
          "base_uri": "https://localhost:8080/"
        },
        "id": "wvtrHSCrb-2v",
        "outputId": "61ec3cbb-7f7b-4adc-94c1-8c590fc2d28d"
      },
      "source": [
        "rgs_result = random_grid_search(n_trials=n_trials, \n",
        "                        n_recurrent_units_min=n_recurrent_units_min, \n",
        "                        n_recurrent_units_max=n_recurrent_units_max, \n",
        "                        n_dense_units_min=n_dense_units_min, \n",
        "                        n_dense_units_max=n_dense_units_max,\n",
        "                        scale_min=scale_min, scale_max=scale_max,\n",
        "                        lr_min=lr_min, lr_max=lr_max, \n",
        "                        dr_min=dr_min, dr_max=dr_max)"
      ],
      "execution_count": 88,
      "outputs": [
        {
          "output_type": "stream",
          "text": [
            "INFO: trying {'n_recurrent_units': 68, 'n_dense_units': 44, 'scale': 0.03774534912308851, 'lr': 0.08365358201665186, 'dr': 0.9658119029112173}...\n",
            "7/7 [==============================] - 0s 8ms/step - loss: 0.1815 - mean_absolute_percentage_error: 135.0113\n",
            "INFO: model evaluation on test data:\n",
            "\tloss: 0.18150660395622253\n",
            "\tMAPE: 135.01132202148438\n",
            "INFO: error: 135.01132202148438\n",
            "INFO: trying {'n_recurrent_units': 19, 'n_dense_units': 21, 'scale': 0.02496147103332294, 'lr': 0.08185994335492688, 'dr': 0.8952937542269067}...\n",
            "7/7 [==============================] - 0s 6ms/step - loss: 0.1818 - mean_absolute_percentage_error: 133.2321\n",
            "INFO: model evaluation on test data:\n",
            "\tloss: 0.18175864219665527\n",
            "\tMAPE: 133.23214721679688\n",
            "INFO: error: 133.23214721679688\n",
            "INFO: trying {'n_recurrent_units': 36, 'n_dense_units': 82, 'scale': 0.0547325322893836, 'lr': 0.05942164354671492, 'dr': 0.858612099822048}...\n",
            "7/7 [==============================] - 0s 7ms/step - loss: 0.0833 - mean_absolute_percentage_error: 42.6411\n",
            "INFO: model evaluation on test data:\n",
            "\tloss: 0.08326694369316101\n",
            "\tMAPE: 42.64112854003906\n",
            "INFO: error: 42.64112854003906\n",
            "INFO: trying {'n_recurrent_units': 60, 'n_dense_units': 80, 'scale': 0.02357878711474367, 'lr': 0.07693525723676126, 'dr': 0.9552882594050484}...\n",
            "7/7 [==============================] - 0s 9ms/step - loss: 0.0877 - mean_absolute_percentage_error: 42.2818\n",
            "INFO: model evaluation on test data:\n",
            "\tloss: 0.0877499207854271\n",
            "\tMAPE: 42.281829833984375\n",
            "INFO: error: 42.281829833984375\n",
            "INFO: trying {'n_recurrent_units': 78, 'n_dense_units': 67, 'scale': 0.014531531142793614, 'lr': 0.06983109696836265, 'dr': 0.960581081355943}...\n",
            "7/7 [==============================] - 0s 9ms/step - loss: 0.1800 - mean_absolute_percentage_error: 133.5807\n",
            "INFO: model evaluation on test data:\n",
            "\tloss: 0.18000008165836334\n",
            "\tMAPE: 133.5806884765625\n",
            "INFO: error: 133.5806884765625\n",
            "INFO: trying {'n_recurrent_units': 24, 'n_dense_units': 69, 'scale': 0.013326121779698323, 'lr': 0.021096830680583146, 'dr': 0.870736193975517}...\n",
            "7/7 [==============================] - 0s 8ms/step - loss: 0.1576 - mean_absolute_percentage_error: 131.4141\n",
            "INFO: model evaluation on test data:\n",
            "\tloss: 0.15761595964431763\n",
            "\tMAPE: 131.4141082763672\n",
            "INFO: error: 131.4141082763672\n",
            "INFO: trying {'n_recurrent_units': 34, 'n_dense_units': 89, 'scale': 0.05988764743884907, 'lr': 0.03333181073109831, 'dr': 0.8990916693837183}...\n",
            "7/7 [==============================] - 0s 7ms/step - loss: 0.0828 - mean_absolute_percentage_error: 41.1953\n",
            "INFO: model evaluation on test data:\n",
            "\tloss: 0.0827895775437355\n",
            "\tMAPE: 41.195274353027344\n",
            "INFO: error: 41.195274353027344\n",
            "INFO: trying {'n_recurrent_units': 59, 'n_dense_units': 89, 'scale': 0.07200977212084776, 'lr': 0.062091532158264205, 'dr': 0.9120225076798386}...\n",
            "7/7 [==============================] - 0s 8ms/step - loss: 0.0868 - mean_absolute_percentage_error: 41.7326\n",
            "INFO: model evaluation on test data:\n",
            "\tloss: 0.08677121996879578\n",
            "\tMAPE: 41.732574462890625\n",
            "INFO: error: 41.732574462890625\n",
            "INFO: trying {'n_recurrent_units': 89, 'n_dense_units': 62, 'scale': 0.06501118612924167, 'lr': 0.029708827540322738, 'dr': 0.8963248089667075}...\n",
            "7/7 [==============================] - 0s 9ms/step - loss: 0.0878 - mean_absolute_percentage_error: 45.2497\n",
            "INFO: model evaluation on test data:\n",
            "\tloss: 0.08779141306877136\n",
            "\tMAPE: 45.24967956542969\n",
            "INFO: error: 45.24967956542969\n",
            "INFO: trying {'n_recurrent_units': 46, 'n_dense_units': 45, 'scale': 0.01708304069313764, 'lr': 0.09152115449623387, 'dr': 0.8410174496385169}...\n",
            "7/7 [==============================] - 0s 7ms/step - loss: 0.2008 - mean_absolute_percentage_error: 120.4453\n",
            "INFO: model evaluation on test data:\n",
            "\tloss: 0.2007923126220703\n",
            "\tMAPE: 120.4453353881836\n",
            "INFO: error: 120.4453353881836\n",
            "INFO: trying {'n_recurrent_units': 53, 'n_dense_units': 55, 'scale': 0.047225245701699066, 'lr': 0.034668072867501086, 'dr': 0.9362230514063319}...\n",
            "7/7 [==============================] - 0s 8ms/step - loss: 0.0903 - mean_absolute_percentage_error: 48.6681\n",
            "INFO: model evaluation on test data:\n",
            "\tloss: 0.09032941609621048\n",
            "\tMAPE: 48.668060302734375\n",
            "INFO: error: 48.668060302734375\n",
            "INFO: trying {'n_recurrent_units': 70, 'n_dense_units': 40, 'scale': 0.06697430793375404, 'lr': 0.0979030569026199, 'dr': 0.9374881484923097}...\n",
            "7/7 [==============================] - 0s 8ms/step - loss: 0.0970 - mean_absolute_percentage_error: 75.1520\n",
            "INFO: model evaluation on test data:\n",
            "\tloss: 0.09698713570833206\n",
            "\tMAPE: 75.15201568603516\n",
            "INFO: error: 75.15201568603516\n",
            "INFO: trying {'n_recurrent_units': 96, 'n_dense_units': 42, 'scale': 0.08034219854212336, 'lr': 0.022529233291436333, 'dr': 0.9804773827858562}...\n",
            "7/7 [==============================] - 0s 12ms/step - loss: 0.0910 - mean_absolute_percentage_error: 44.2206\n",
            "INFO: model evaluation on test data:\n",
            "\tloss: 0.09098657965660095\n",
            "\tMAPE: 44.22063446044922\n",
            "INFO: error: 44.22063446044922\n",
            "INFO: trying {'n_recurrent_units': 27, 'n_dense_units': 89, 'scale': 0.07184910165848468, 'lr': 0.053956384918705455, 'dr': 0.8257678068263908}...\n",
            "7/7 [==============================] - 0s 6ms/step - loss: 0.1178 - mean_absolute_percentage_error: 39.3478\n",
            "INFO: model evaluation on test data:\n",
            "\tloss: 0.11776237934827805\n",
            "\tMAPE: 39.34781265258789\n",
            "INFO: error: 39.34781265258789\n",
            "INFO: trying {'n_recurrent_units': 19, 'n_dense_units': 44, 'scale': 0.09511861759663681, 'lr': 0.009662602519428824, 'dr': 0.8998143526824136}...\n",
            "7/7 [==============================] - 0s 6ms/step - loss: 0.0865 - mean_absolute_percentage_error: 41.2978\n",
            "INFO: model evaluation on test data:\n",
            "\tloss: 0.08652199059724808\n",
            "\tMAPE: 41.297794342041016\n",
            "INFO: error: 41.297794342041016\n",
            "INFO: trying {'n_recurrent_units': 33, 'n_dense_units': 79, 'scale': 0.025394244643540446, 'lr': 0.07023846542349234, 'dr': 0.8899706074426248}...\n",
            "7/7 [==============================] - 0s 7ms/step - loss: 0.1033 - mean_absolute_percentage_error: 50.8856\n",
            "INFO: model evaluation on test data:\n",
            "\tloss: 0.10332813113927841\n",
            "\tMAPE: 50.88557052612305\n",
            "INFO: error: 50.88557052612305\n",
            "INFO: trying {'n_recurrent_units': 66, 'n_dense_units': 27, 'scale': 0.03045391334412948, 'lr': 0.08283965050755218, 'dr': 0.9941213781892397}...\n",
            "7/7 [==============================] - 0s 8ms/step - loss: 0.0823 - mean_absolute_percentage_error: 49.6810\n",
            "INFO: model evaluation on test data:\n",
            "\tloss: 0.08225081861019135\n",
            "\tMAPE: 49.68095016479492\n",
            "INFO: error: 49.68095016479492\n",
            "INFO: trying {'n_recurrent_units': 81, 'n_dense_units': 26, 'scale': 0.07111154804967186, 'lr': 0.07273477432484524, 'dr': 0.9234854225179794}...\n",
            "7/7 [==============================] - 0s 12ms/step - loss: 0.0879 - mean_absolute_percentage_error: 55.5260\n",
            "INFO: model evaluation on test data:\n",
            "\tloss: 0.08788004517555237\n",
            "\tMAPE: 55.52597427368164\n",
            "INFO: error: 55.52597427368164\n",
            "INFO: trying {'n_recurrent_units': 40, 'n_dense_units': 58, 'scale': 0.0684922390509125, 'lr': 0.04615646458863155, 'dr': 0.9087500564907756}...\n",
            "7/7 [==============================] - 0s 10ms/step - loss: 0.1876 - mean_absolute_percentage_error: 127.4253\n",
            "INFO: model evaluation on test data:\n",
            "\tloss: 0.18763123452663422\n",
            "\tMAPE: 127.4253158569336\n",
            "INFO: error: 127.4253158569336\n",
            "INFO: trying {'n_recurrent_units': 69, 'n_dense_units': 38, 'scale': 0.06078773970413372, 'lr': 0.04162670694280529, 'dr': 0.9703392635770598}...\n",
            "7/7 [==============================] - 0s 9ms/step - loss: 0.0930 - mean_absolute_percentage_error: 39.3451\n",
            "INFO: model evaluation on test data:\n",
            "\tloss: 0.0930231437087059\n",
            "\tMAPE: 39.34514617919922\n",
            "INFO: error: 39.34514617919922\n",
            "INFO: trying {'n_recurrent_units': 18, 'n_dense_units': 46, 'scale': 0.033618285285678014, 'lr': 0.02255148421811819, 'dr': 0.9002729887091008}...\n",
            "7/7 [==============================] - 0s 6ms/step - loss: 0.0827 - mean_absolute_percentage_error: 42.7384\n",
            "INFO: model evaluation on test data:\n",
            "\tloss: 0.08274099975824356\n",
            "\tMAPE: 42.73836135864258\n",
            "INFO: error: 42.73836135864258\n",
            "INFO: trying {'n_recurrent_units': 37, 'n_dense_units': 30, 'scale': 0.07729462775140265, 'lr': 0.04625131294941796, 'dr': 0.9372951646993153}...\n",
            "7/7 [==============================] - 0s 7ms/step - loss: 0.0919 - mean_absolute_percentage_error: 48.9259\n",
            "INFO: model evaluation on test data:\n",
            "\tloss: 0.09189895540475845\n",
            "\tMAPE: 48.92592239379883\n",
            "INFO: error: 48.92592239379883\n",
            "INFO: trying {'n_recurrent_units': 26, 'n_dense_units': 67, 'scale': 0.09937490703896677, 'lr': 0.07412823989567711, 'dr': 0.9945619870533369}...\n",
            "7/7 [==============================] - 0s 6ms/step - loss: 0.0876 - mean_absolute_percentage_error: 52.1360\n",
            "INFO: model evaluation on test data:\n",
            "\tloss: 0.08763258904218674\n",
            "\tMAPE: 52.13603973388672\n",
            "INFO: error: 52.13603973388672\n",
            "INFO: trying {'n_recurrent_units': 31, 'n_dense_units': 82, 'scale': 0.0695350855506392, 'lr': 0.07769709840115595, 'dr': 0.8200619289782726}...\n",
            "7/7 [==============================] - 0s 7ms/step - loss: 0.1813 - mean_absolute_percentage_error: 137.7151\n",
            "INFO: model evaluation on test data:\n",
            "\tloss: 0.1813073307275772\n",
            "\tMAPE: 137.7151336669922\n",
            "INFO: error: 137.7151336669922\n",
            "INFO: trying {'n_recurrent_units': 22, 'n_dense_units': 82, 'scale': 0.017176855130218216, 'lr': 0.07968187867655004, 'dr': 0.8361465628175822}...\n",
            "7/7 [==============================] - 0s 6ms/step - loss: 0.1805 - mean_absolute_percentage_error: 152.0889\n",
            "INFO: model evaluation on test data:\n",
            "\tloss: 0.18054287135601044\n",
            "\tMAPE: 152.08892822265625\n",
            "INFO: error: 152.08892822265625\n",
            "INFO: trying {'n_recurrent_units': 94, 'n_dense_units': 65, 'scale': 0.08047006410921245, 'lr': 0.01738344169684077, 'dr': 0.8721711068809492}...\n",
            "7/7 [==============================] - 0s 10ms/step - loss: 0.0868 - mean_absolute_percentage_error: 37.6928\n",
            "INFO: model evaluation on test data:\n",
            "\tloss: 0.08683685213327408\n",
            "\tMAPE: 37.692779541015625\n",
            "INFO: error: 37.692779541015625\n",
            "INFO: trying {'n_recurrent_units': 28, 'n_dense_units': 64, 'scale': 0.016501705690186712, 'lr': 0.04361628649152351, 'dr': 0.8376251688756707}...\n",
            "7/7 [==============================] - 0s 6ms/step - loss: 0.0861 - mean_absolute_percentage_error: 44.5684\n",
            "INFO: model evaluation on test data:\n",
            "\tloss: 0.08605809509754181\n",
            "\tMAPE: 44.5683708190918\n",
            "INFO: error: 44.5683708190918\n",
            "INFO: trying {'n_recurrent_units': 94, 'n_dense_units': 97, 'scale': 0.029934347138769107, 'lr': 0.05884700594808604, 'dr': 0.9857270203172092}...\n",
            "7/7 [==============================] - 0s 10ms/step - loss: 0.0947 - mean_absolute_percentage_error: 39.6188\n",
            "INFO: model evaluation on test data:\n",
            "\tloss: 0.09466306120157242\n",
            "\tMAPE: 39.6187629699707\n",
            "INFO: error: 39.6187629699707\n",
            "INFO: trying {'n_recurrent_units': 27, 'n_dense_units': 96, 'scale': 0.018879338510893812, 'lr': 0.014608673980501547, 'dr': 0.8529665914389358}...\n",
            "7/7 [==============================] - 0s 6ms/step - loss: 0.0832 - mean_absolute_percentage_error: 41.8849\n",
            "INFO: model evaluation on test data:\n",
            "\tloss: 0.08317670226097107\n",
            "\tMAPE: 41.8848762512207\n",
            "INFO: error: 41.8848762512207\n",
            "INFO: trying {'n_recurrent_units': 81, 'n_dense_units': 86, 'scale': 0.024661566183433493, 'lr': 0.04397774811025323, 'dr': 0.8257801466533639}...\n",
            "7/7 [==============================] - 0s 10ms/step - loss: 0.1746 - mean_absolute_percentage_error: 129.2008\n",
            "INFO: model evaluation on test data:\n",
            "\tloss: 0.17464038729667664\n",
            "\tMAPE: 129.20083618164062\n",
            "INFO: error: 129.20083618164062\n",
            "INFO: trying {'n_recurrent_units': 11, 'n_dense_units': 44, 'scale': 0.06722282139673634, 'lr': 0.03626855960600465, 'dr': 0.8873720478754822}...\n",
            "7/7 [==============================] - 0s 7ms/step - loss: 0.0963 - mean_absolute_percentage_error: 42.3356\n",
            "INFO: model evaluation on test data:\n",
            "\tloss: 0.09634535759687424\n",
            "\tMAPE: 42.33563232421875\n",
            "INFO: error: 42.33563232421875\n",
            "INFO: trying {'n_recurrent_units': 45, 'n_dense_units': 78, 'scale': 0.07898851940829553, 'lr': 0.07395217886351853, 'dr': 0.9829828636799083}...\n",
            "7/7 [==============================] - 0s 8ms/step - loss: 0.1817 - mean_absolute_percentage_error: 131.6328\n",
            "INFO: model evaluation on test data:\n",
            "\tloss: 0.18169352412223816\n",
            "\tMAPE: 131.63279724121094\n",
            "INFO: error: 131.63279724121094\n",
            "INFO: trying {'n_recurrent_units': 47, 'n_dense_units': 24, 'scale': 0.04844165899181946, 'lr': 0.06960773704918145, 'dr': 0.9208039512950715}...\n",
            "7/7 [==============================] - 0s 7ms/step - loss: 0.0863 - mean_absolute_percentage_error: 52.2643\n",
            "INFO: model evaluation on test data:\n",
            "\tloss: 0.08633948862552643\n",
            "\tMAPE: 52.26428985595703\n",
            "INFO: error: 52.26428985595703\n",
            "INFO: trying {'n_recurrent_units': 15, 'n_dense_units': 75, 'scale': 0.05135836011435562, 'lr': 0.028300619962389334, 'dr': 0.9014366127972337}...\n",
            "7/7 [==============================] - 0s 6ms/step - loss: 0.0908 - mean_absolute_percentage_error: 38.1960\n",
            "INFO: model evaluation on test data:\n",
            "\tloss: 0.09078866243362427\n",
            "\tMAPE: 38.19597625732422\n",
            "INFO: error: 38.19597625732422\n",
            "INFO: trying {'n_recurrent_units': 31, 'n_dense_units': 76, 'scale': 0.08458445597002366, 'lr': 0.029104764706771678, 'dr': 0.9930448423266023}...\n",
            "7/7 [==============================] - 0s 7ms/step - loss: 0.1168 - mean_absolute_percentage_error: 46.8156\n",
            "INFO: model evaluation on test data:\n",
            "\tloss: 0.11683223396539688\n",
            "\tMAPE: 46.815574645996094\n",
            "INFO: error: 46.815574645996094\n",
            "INFO: trying {'n_recurrent_units': 74, 'n_dense_units': 25, 'scale': 0.03037448639821092, 'lr': 0.016801367485737462, 'dr': 0.9579632332909527}...\n",
            "7/7 [==============================] - 0s 9ms/step - loss: 0.0879 - mean_absolute_percentage_error: 44.4071\n",
            "INFO: model evaluation on test data:\n",
            "\tloss: 0.08793160319328308\n",
            "\tMAPE: 44.407081604003906\n",
            "INFO: error: 44.407081604003906\n",
            "INFO: trying {'n_recurrent_units': 24, 'n_dense_units': 60, 'scale': 0.04434492388859257, 'lr': 0.026820569537476097, 'dr': 0.9172610218926462}...\n",
            "7/7 [==============================] - 0s 7ms/step - loss: 0.0967 - mean_absolute_percentage_error: 40.1190\n",
            "INFO: model evaluation on test data:\n",
            "\tloss: 0.09669647365808487\n",
            "\tMAPE: 40.118980407714844\n",
            "INFO: error: 40.118980407714844\n",
            "INFO: trying {'n_recurrent_units': 63, 'n_dense_units': 49, 'scale': 0.09970775155155205, 'lr': 0.026523142750095097, 'dr': 0.9820817482524629}...\n",
            "7/7 [==============================] - 0s 8ms/step - loss: 0.0806 - mean_absolute_percentage_error: 46.4847\n",
            "INFO: model evaluation on test data:\n",
            "\tloss: 0.08064793795347214\n",
            "\tMAPE: 46.48472213745117\n",
            "INFO: error: 46.48472213745117\n",
            "INFO: trying {'n_recurrent_units': 23, 'n_dense_units': 37, 'scale': 0.0956012201860061, 'lr': 0.06637239152913096, 'dr': 0.8091265590809307}...\n",
            "7/7 [==============================] - 0s 6ms/step - loss: 0.0839 - mean_absolute_percentage_error: 45.2297\n",
            "INFO: model evaluation on test data:\n",
            "\tloss: 0.08392997831106186\n",
            "\tMAPE: 45.229713439941406\n",
            "INFO: error: 45.229713439941406\n",
            "INFO: trying {'n_recurrent_units': 79, 'n_dense_units': 38, 'scale': 0.09117428762488199, 'lr': 0.07802151078938274, 'dr': 0.9886832010518924}...\n",
            "7/7 [==============================] - 0s 10ms/step - loss: 0.0868 - mean_absolute_percentage_error: 43.7663\n",
            "INFO: model evaluation on test data:\n",
            "\tloss: 0.08675889670848846\n",
            "\tMAPE: 43.766273498535156\n",
            "INFO: error: 43.766273498535156\n",
            "INFO: trying {'n_recurrent_units': 20, 'n_dense_units': 52, 'scale': 0.05346630179765919, 'lr': 0.01327323965503476, 'dr': 0.8193147144608792}...\n",
            "7/7 [==============================] - 0s 6ms/step - loss: 0.0920 - mean_absolute_percentage_error: 42.0208\n",
            "INFO: model evaluation on test data:\n",
            "\tloss: 0.09201791137456894\n",
            "\tMAPE: 42.02079391479492\n",
            "INFO: error: 42.02079391479492\n",
            "INFO: trying {'n_recurrent_units': 45, 'n_dense_units': 38, 'scale': 0.027108342693216513, 'lr': 0.014945768600465748, 'dr': 0.8143765477869667}...\n",
            "7/7 [==============================] - 0s 7ms/step - loss: 0.0845 - mean_absolute_percentage_error: 44.1865\n",
            "INFO: model evaluation on test data:\n",
            "\tloss: 0.08447721600532532\n",
            "\tMAPE: 44.18649673461914\n",
            "INFO: error: 44.18649673461914\n",
            "INFO: trying {'n_recurrent_units': 57, 'n_dense_units': 44, 'scale': 0.031165375185182864, 'lr': 0.058117472756702745, 'dr': 0.8808342448060069}...\n",
            "7/7 [==============================] - 0s 8ms/step - loss: 0.0950 - mean_absolute_percentage_error: 68.6339\n",
            "INFO: model evaluation on test data:\n",
            "\tloss: 0.09502565860748291\n",
            "\tMAPE: 68.63386535644531\n",
            "INFO: error: 68.63386535644531\n",
            "INFO: trying {'n_recurrent_units': 85, 'n_dense_units': 77, 'scale': 0.034451766486190034, 'lr': 0.07896138870442006, 'dr': 0.8093091375219035}...\n",
            "7/7 [==============================] - 0s 11ms/step - loss: 0.0945 - mean_absolute_percentage_error: 47.0699\n",
            "INFO: model evaluation on test data:\n",
            "\tloss: 0.09450927376747131\n",
            "\tMAPE: 47.069889068603516\n",
            "INFO: error: 47.069889068603516\n",
            "INFO: trying {'n_recurrent_units': 39, 'n_dense_units': 62, 'scale': 0.020164200743514604, 'lr': 0.045337354993317966, 'dr': 0.9807267754308099}...\n",
            "7/7 [==============================] - 0s 7ms/step - loss: 0.1125 - mean_absolute_percentage_error: 46.0299\n",
            "INFO: model evaluation on test data:\n",
            "\tloss: 0.11248469352722168\n",
            "\tMAPE: 46.029850006103516\n",
            "INFO: error: 46.029850006103516\n",
            "INFO: trying {'n_recurrent_units': 39, 'n_dense_units': 42, 'scale': 0.04614415341037418, 'lr': 0.08772609664877704, 'dr': 0.8473257609991341}...\n",
            "7/7 [==============================] - 0s 7ms/step - loss: 0.1052 - mean_absolute_percentage_error: 83.6558\n",
            "INFO: model evaluation on test data:\n",
            "\tloss: 0.10516893118619919\n",
            "\tMAPE: 83.65580749511719\n",
            "INFO: error: 83.65580749511719\n",
            "INFO: trying {'n_recurrent_units': 20, 'n_dense_units': 29, 'scale': 0.0684061750773327, 'lr': 0.09240806774152806, 'dr': 0.9706413706741285}...\n",
            "7/7 [==============================] - 0s 6ms/step - loss: 0.1806 - mean_absolute_percentage_error: 135.0775\n",
            "INFO: model evaluation on test data:\n",
            "\tloss: 0.1806161254644394\n",
            "\tMAPE: 135.07748413085938\n",
            "INFO: error: 135.07748413085938\n",
            "INFO: trying {'n_recurrent_units': 59, 'n_dense_units': 22, 'scale': 0.06753971666007569, 'lr': 0.02120695008032702, 'dr': 0.9761615051908247}...\n",
            "7/7 [==============================] - 0s 8ms/step - loss: 0.0894 - mean_absolute_percentage_error: 40.7632\n",
            "INFO: model evaluation on test data:\n",
            "\tloss: 0.08936162292957306\n",
            "\tMAPE: 40.763179779052734\n",
            "INFO: error: 40.763179779052734\n",
            "INFO: trying {'n_recurrent_units': 55, 'n_dense_units': 79, 'scale': 0.01938685211308546, 'lr': 0.0237469271212716, 'dr': 0.8371703094615541}...\n",
            "7/7 [==============================] - 0s 8ms/step - loss: 0.0872 - mean_absolute_percentage_error: 41.5780\n",
            "INFO: model evaluation on test data:\n",
            "\tloss: 0.08715365082025528\n",
            "\tMAPE: 41.57801055908203\n",
            "INFO: error: 41.57801055908203\n",
            "INFO: trying {'n_recurrent_units': 11, 'n_dense_units': 75, 'scale': 0.04396029513908895, 'lr': 0.09750268106948298, 'dr': 0.9416833912736632}...\n",
            "7/7 [==============================] - 0s 6ms/step - loss: 0.1831 - mean_absolute_percentage_error: 133.3537\n",
            "INFO: model evaluation on test data:\n",
            "\tloss: 0.18310000002384186\n",
            "\tMAPE: 133.35374450683594\n",
            "INFO: error: 133.35374450683594\n",
            "INFO: trying {'n_recurrent_units': 30, 'n_dense_units': 59, 'scale': 0.02213197088726817, 'lr': 0.007624418818945963, 'dr': 0.9037207017755011}...\n",
            "7/7 [==============================] - 0s 7ms/step - loss: 0.0868 - mean_absolute_percentage_error: 40.3046\n",
            "INFO: model evaluation on test data:\n",
            "\tloss: 0.08679299801588058\n",
            "\tMAPE: 40.30461883544922\n",
            "INFO: error: 40.30461883544922\n",
            "INFO: trying {'n_recurrent_units': 15, 'n_dense_units': 38, 'scale': 0.06978821486456378, 'lr': 0.016776860547175386, 'dr': 0.9386700202331586}...\n",
            "7/7 [==============================] - 0s 6ms/step - loss: 0.0875 - mean_absolute_percentage_error: 37.9309\n",
            "INFO: model evaluation on test data:\n",
            "\tloss: 0.08747575432062149\n",
            "\tMAPE: 37.93086624145508\n",
            "INFO: error: 37.93086624145508\n",
            "INFO: trying {'n_recurrent_units': 11, 'n_dense_units': 56, 'scale': 0.029975504725741696, 'lr': 0.037855387634338246, 'dr': 0.9676469165711142}...\n",
            "7/7 [==============================] - 0s 6ms/step - loss: 0.0828 - mean_absolute_percentage_error: 46.8873\n",
            "INFO: model evaluation on test data:\n",
            "\tloss: 0.08277881145477295\n",
            "\tMAPE: 46.887332916259766\n",
            "INFO: error: 46.887332916259766\n",
            "INFO: trying {'n_recurrent_units': 91, 'n_dense_units': 29, 'scale': 0.018370676642402488, 'lr': 0.09705414181270501, 'dr': 0.9707290851735492}...\n",
            "7/7 [==============================] - 0s 13ms/step - loss: 0.0977 - mean_absolute_percentage_error: 45.7377\n",
            "INFO: model evaluation on test data:\n",
            "\tloss: 0.097660593688488\n",
            "\tMAPE: 45.73767852783203\n",
            "INFO: error: 45.73767852783203\n",
            "INFO: trying {'n_recurrent_units': 88, 'n_dense_units': 22, 'scale': 0.08245272465210433, 'lr': 0.06989946644935553, 'dr': 0.8172225385497287}...\n",
            "7/7 [==============================] - 0s 9ms/step - loss: nan - mean_absolute_percentage_error: nan\n",
            "INFO: model evaluation on test data:\n",
            "\tloss: nan\n",
            "\tMAPE: nan\n",
            "INFO: error: nan\n",
            "INFO: trying {'n_recurrent_units': 34, 'n_dense_units': 39, 'scale': 0.053556693761439546, 'lr': 0.08332701440076569, 'dr': 0.8077771677172675}...\n",
            "7/7 [==============================] - 0s 6ms/step - loss: 1.2629 - mean_absolute_percentage_error: 155.8473\n",
            "INFO: model evaluation on test data:\n",
            "\tloss: 1.2628997564315796\n",
            "\tMAPE: 155.84730529785156\n",
            "INFO: error: 155.84730529785156\n",
            "INFO: trying {'n_recurrent_units': 73, 'n_dense_units': 79, 'scale': 0.04523147023341821, 'lr': 0.00630303199954811, 'dr': 0.8481552351097883}...\n",
            "7/7 [==============================] - 0s 9ms/step - loss: 0.0835 - mean_absolute_percentage_error: 42.7569\n",
            "INFO: model evaluation on test data:\n",
            "\tloss: 0.08350716531276703\n",
            "\tMAPE: 42.756893157958984\n",
            "INFO: error: 42.756893157958984\n",
            "INFO: trying {'n_recurrent_units': 92, 'n_dense_units': 90, 'scale': 0.04717836281397774, 'lr': 0.035921843406066474, 'dr': 0.9919271754788046}...\n",
            "7/7 [==============================] - 0s 11ms/step - loss: 0.0903 - mean_absolute_percentage_error: 40.0623\n",
            "INFO: model evaluation on test data:\n",
            "\tloss: 0.09027600288391113\n",
            "\tMAPE: 40.06233596801758\n",
            "INFO: error: 40.06233596801758\n",
            "INFO: trying {'n_recurrent_units': 97, 'n_dense_units': 46, 'scale': 0.06204393789518514, 'lr': 0.007826110598316881, 'dr': 0.9000236809322762}...\n",
            "7/7 [==============================] - 0s 12ms/step - loss: 0.0872 - mean_absolute_percentage_error: 40.7325\n",
            "INFO: model evaluation on test data:\n",
            "\tloss: 0.08718512952327728\n",
            "\tMAPE: 40.732460021972656\n",
            "INFO: error: 40.732460021972656\n",
            "INFO: trying {'n_recurrent_units': 82, 'n_dense_units': 94, 'scale': 0.0357499513871502, 'lr': 0.04443628085502217, 'dr': 0.9905890892400295}...\n",
            "7/7 [==============================] - 0s 11ms/step - loss: 0.1016 - mean_absolute_percentage_error: 37.8048\n",
            "INFO: model evaluation on test data:\n",
            "\tloss: 0.10160672664642334\n",
            "\tMAPE: 37.804805755615234\n",
            "INFO: error: 37.804805755615234\n",
            "INFO: trying {'n_recurrent_units': 61, 'n_dense_units': 91, 'scale': 0.070548006515212, 'lr': 0.04662840023081944, 'dr': 0.9416362718780631}...\n",
            "7/7 [==============================] - 0s 8ms/step - loss: 0.0948 - mean_absolute_percentage_error: 46.5845\n",
            "INFO: model evaluation on test data:\n",
            "\tloss: 0.09477760642766953\n",
            "\tMAPE: 46.5844841003418\n",
            "INFO: error: 46.5844841003418\n",
            "INFO: trying {'n_recurrent_units': 44, 'n_dense_units': 35, 'scale': 0.032741676745372074, 'lr': 0.022277194149665083, 'dr': 0.8031189391274413}...\n",
            "7/7 [==============================] - 0s 7ms/step - loss: 0.0832 - mean_absolute_percentage_error: 43.8391\n",
            "INFO: model evaluation on test data:\n",
            "\tloss: 0.08324355632066727\n",
            "\tMAPE: 43.83913803100586\n",
            "INFO: error: 43.83913803100586\n",
            "INFO: trying {'n_recurrent_units': 80, 'n_dense_units': 53, 'scale': 0.0644057907724341, 'lr': 0.09690609841210174, 'dr': 0.9017201590851841}...\n",
            "7/7 [==============================] - 0s 11ms/step - loss: 0.2396 - mean_absolute_percentage_error: 73.3544\n",
            "INFO: model evaluation on test data:\n",
            "\tloss: 0.2396211475133896\n",
            "\tMAPE: 73.35442352294922\n",
            "INFO: error: 73.35442352294922\n",
            "INFO: trying {'n_recurrent_units': 77, 'n_dense_units': 24, 'scale': 0.06971992361815721, 'lr': 0.054264855643592215, 'dr': 0.8158715083538547}...\n",
            "7/7 [==============================] - 0s 9ms/step - loss: 0.1772 - mean_absolute_percentage_error: 137.2833\n",
            "INFO: model evaluation on test data:\n",
            "\tloss: 0.17724548280239105\n",
            "\tMAPE: 137.28329467773438\n",
            "INFO: error: 137.28329467773438\n",
            "INFO: trying {'n_recurrent_units': 12, 'n_dense_units': 88, 'scale': 0.02533643913613244, 'lr': 0.0014191630857558232, 'dr': 0.9165255428167027}...\n",
            "7/7 [==============================] - 0s 6ms/step - loss: 0.1052 - mean_absolute_percentage_error: 66.6941\n",
            "INFO: model evaluation on test data:\n",
            "\tloss: 0.10521772503852844\n",
            "\tMAPE: 66.69407653808594\n",
            "INFO: error: 66.69407653808594\n",
            "INFO: trying {'n_recurrent_units': 99, 'n_dense_units': 92, 'scale': 0.028966660301876078, 'lr': 0.005114359581786199, 'dr': 0.8445913011685718}...\n",
            "7/7 [==============================] - 0s 12ms/step - loss: 0.0940 - mean_absolute_percentage_error: 41.1146\n",
            "INFO: model evaluation on test data:\n",
            "\tloss: 0.09400203824043274\n",
            "\tMAPE: 41.114646911621094\n",
            "INFO: error: 41.114646911621094\n",
            "INFO: trying {'n_recurrent_units': 32, 'n_dense_units': 50, 'scale': 0.0889583089385571, 'lr': 0.04168785823213997, 'dr': 0.9707508278367485}...\n",
            "7/7 [==============================] - 0s 6ms/step - loss: 0.1118 - mean_absolute_percentage_error: 42.6566\n",
            "INFO: model evaluation on test data:\n",
            "\tloss: 0.1117546409368515\n",
            "\tMAPE: 42.65658187866211\n",
            "INFO: error: 42.65658187866211\n",
            "INFO: trying {'n_recurrent_units': 56, 'n_dense_units': 44, 'scale': 0.08816475496959636, 'lr': 0.08333918497485297, 'dr': 0.9474486638076232}...\n",
            "7/7 [==============================] - 0s 8ms/step - loss: 0.1806 - mean_absolute_percentage_error: 134.9361\n",
            "INFO: model evaluation on test data:\n",
            "\tloss: 0.1806212216615677\n",
            "\tMAPE: 134.93605041503906\n",
            "INFO: error: 134.93605041503906\n",
            "INFO: trying {'n_recurrent_units': 26, 'n_dense_units': 45, 'scale': 0.05414197292787814, 'lr': 0.042448153608406515, 'dr': 0.8003519336015265}...\n",
            "7/7 [==============================] - 0s 6ms/step - loss: 0.0850 - mean_absolute_percentage_error: 43.9053\n",
            "INFO: model evaluation on test data:\n",
            "\tloss: 0.08502861112356186\n",
            "\tMAPE: 43.90533447265625\n",
            "INFO: error: 43.90533447265625\n",
            "INFO: trying {'n_recurrent_units': 41, 'n_dense_units': 41, 'scale': 0.030880974391400397, 'lr': 0.06905647272707591, 'dr': 0.8279739907351843}...\n",
            "7/7 [==============================] - 0s 7ms/step - loss: 0.0884 - mean_absolute_percentage_error: 43.9012\n",
            "INFO: model evaluation on test data:\n",
            "\tloss: 0.08839644491672516\n",
            "\tMAPE: 43.90118408203125\n",
            "INFO: error: 43.90118408203125\n",
            "INFO: trying {'n_recurrent_units': 23, 'n_dense_units': 45, 'scale': 0.057521296380344714, 'lr': 0.09108426467839525, 'dr': 0.9409825992856724}...\n",
            "7/7 [==============================] - 0s 6ms/step - loss: 0.1077 - mean_absolute_percentage_error: 39.9289\n",
            "INFO: model evaluation on test data:\n",
            "\tloss: 0.10774645209312439\n",
            "\tMAPE: 39.92886734008789\n",
            "INFO: error: 39.92886734008789\n",
            "INFO: trying {'n_recurrent_units': 16, 'n_dense_units': 68, 'scale': 0.0220861944170143, 'lr': 0.04982408099420594, 'dr': 0.8945152766150075}...\n",
            "7/7 [==============================] - 0s 6ms/step - loss: 0.0867 - mean_absolute_percentage_error: 44.3235\n",
            "INFO: model evaluation on test data:\n",
            "\tloss: 0.086734838783741\n",
            "\tMAPE: 44.3234748840332\n",
            "INFO: error: 44.3234748840332\n",
            "INFO: trying {'n_recurrent_units': 22, 'n_dense_units': 71, 'scale': 0.025398909000591247, 'lr': 0.053335631843500333, 'dr': 0.9069842510356287}...\n",
            "7/7 [==============================] - 0s 7ms/step - loss: 0.0849 - mean_absolute_percentage_error: 45.1157\n",
            "INFO: model evaluation on test data:\n",
            "\tloss: 0.08494004607200623\n",
            "\tMAPE: 45.11568832397461\n",
            "INFO: error: 45.11568832397461\n",
            "INFO: trying {'n_recurrent_units': 80, 'n_dense_units': 79, 'scale': 0.08687072859461763, 'lr': 0.05917133622829595, 'dr': 0.9198775932388408}...\n",
            "7/7 [==============================] - 0s 9ms/step - loss: 0.0997 - mean_absolute_percentage_error: 41.7298\n",
            "INFO: model evaluation on test data:\n",
            "\tloss: 0.09970440715551376\n",
            "\tMAPE: 41.72980499267578\n",
            "INFO: error: 41.72980499267578\n",
            "INFO: trying {'n_recurrent_units': 93, 'n_dense_units': 22, 'scale': 0.04948748312390048, 'lr': 0.05406142301818152, 'dr': 0.8700631855458731}...\n",
            "7/7 [==============================] - 0s 11ms/step - loss: 0.9286 - mean_absolute_percentage_error: 112.2965\n",
            "INFO: model evaluation on test data:\n",
            "\tloss: 0.9286345839500427\n",
            "\tMAPE: 112.29652404785156\n",
            "INFO: error: 112.29652404785156\n",
            "INFO: trying {'n_recurrent_units': 60, 'n_dense_units': 40, 'scale': 0.03522293237634391, 'lr': 0.058152653477926856, 'dr': 0.8180357197010407}...\n",
            "7/7 [==============================] - 0s 10ms/step - loss: 0.1092 - mean_absolute_percentage_error: 50.6041\n",
            "INFO: model evaluation on test data:\n",
            "\tloss: 0.10923955589532852\n",
            "\tMAPE: 50.604061126708984\n",
            "INFO: error: 50.604061126708984\n",
            "INFO: trying {'n_recurrent_units': 65, 'n_dense_units': 93, 'scale': 0.018880264976962654, 'lr': 0.09204713272355812, 'dr': 0.8973573645490573}...\n",
            "7/7 [==============================] - 0s 11ms/step - loss: 0.0846 - mean_absolute_percentage_error: 55.9740\n",
            "INFO: model evaluation on test data:\n",
            "\tloss: 0.08458881825208664\n",
            "\tMAPE: 55.97399139404297\n",
            "INFO: error: 55.97399139404297\n",
            "INFO: trying {'n_recurrent_units': 84, 'n_dense_units': 31, 'scale': 0.013475483575680184, 'lr': 0.0027370967917404302, 'dr': 0.9440122185892628}...\n",
            "7/7 [==============================] - 0s 11ms/step - loss: 0.0864 - mean_absolute_percentage_error: 42.3096\n",
            "INFO: model evaluation on test data:\n",
            "\tloss: 0.08636809885501862\n",
            "\tMAPE: 42.30963134765625\n",
            "INFO: error: 42.30963134765625\n",
            "INFO: trying {'n_recurrent_units': 77, 'n_dense_units': 53, 'scale': 0.09107310118736402, 'lr': 0.05358049354747346, 'dr': 0.8950735165427494}...\n",
            "7/7 [==============================] - 0s 10ms/step - loss: 0.1090 - mean_absolute_percentage_error: 59.4287\n",
            "INFO: model evaluation on test data:\n",
            "\tloss: 0.10903723537921906\n",
            "\tMAPE: 59.428714752197266\n",
            "INFO: error: 59.428714752197266\n",
            "INFO: trying {'n_recurrent_units': 91, 'n_dense_units': 94, 'scale': 0.014402851441344401, 'lr': 0.037330709034008945, 'dr': 0.9565164455034103}...\n",
            "7/7 [==============================] - 0s 11ms/step - loss: 0.0867 - mean_absolute_percentage_error: 37.7729\n",
            "INFO: model evaluation on test data:\n",
            "\tloss: 0.08667361736297607\n",
            "\tMAPE: 37.77285385131836\n",
            "INFO: error: 37.77285385131836\n",
            "INFO: trying {'n_recurrent_units': 89, 'n_dense_units': 76, 'scale': 0.0688432170933231, 'lr': 0.018251137538521672, 'dr': 0.8527966564982866}...\n",
            "7/7 [==============================] - 0s 12ms/step - loss: 0.0882 - mean_absolute_percentage_error: 41.9641\n",
            "INFO: model evaluation on test data:\n",
            "\tloss: 0.08818013966083527\n",
            "\tMAPE: 41.964111328125\n",
            "INFO: error: 41.964111328125\n",
            "INFO: trying {'n_recurrent_units': 61, 'n_dense_units': 37, 'scale': 0.0670850884246011, 'lr': 0.03540185572427728, 'dr': 0.9403478857009031}...\n",
            "7/7 [==============================] - 0s 9ms/step - loss: 0.0842 - mean_absolute_percentage_error: 43.1987\n",
            "INFO: model evaluation on test data:\n",
            "\tloss: 0.0841512680053711\n",
            "\tMAPE: 43.19865036010742\n",
            "INFO: error: 43.19865036010742\n",
            "INFO: trying {'n_recurrent_units': 18, 'n_dense_units': 92, 'scale': 0.07692103167029471, 'lr': 0.09417636330487078, 'dr': 0.818279163105147}...\n",
            "7/7 [==============================] - 0s 6ms/step - loss: 0.1806 - mean_absolute_percentage_error: 135.9519\n",
            "INFO: model evaluation on test data:\n",
            "\tloss: 0.1805926412343979\n",
            "\tMAPE: 135.951904296875\n",
            "INFO: error: 135.951904296875\n",
            "INFO: trying {'n_recurrent_units': 82, 'n_dense_units': 63, 'scale': 0.06020385141307043, 'lr': 0.06059213739068464, 'dr': 0.8270460066366246}...\n",
            "7/7 [==============================] - 0s 11ms/step - loss: 0.1017 - mean_absolute_percentage_error: 43.4568\n",
            "INFO: model evaluation on test data:\n",
            "\tloss: 0.1016644537448883\n",
            "\tMAPE: 43.45677947998047\n",
            "INFO: error: 43.45677947998047\n",
            "INFO: trying {'n_recurrent_units': 10, 'n_dense_units': 82, 'scale': 0.05212227145864078, 'lr': 0.02387032756002441, 'dr': 0.9880080490088943}...\n",
            "7/7 [==============================] - 0s 7ms/step - loss: 0.0913 - mean_absolute_percentage_error: 37.5489\n",
            "INFO: model evaluation on test data:\n",
            "\tloss: 0.09129469841718674\n",
            "\tMAPE: 37.548919677734375\n",
            "INFO: error: 37.548919677734375\n",
            "INFO: trying {'n_recurrent_units': 32, 'n_dense_units': 61, 'scale': 0.044504211617505236, 'lr': 0.07149919100393289, 'dr': 0.8668924849677411}...\n",
            "7/7 [==============================] - 0s 6ms/step - loss: 0.0834 - mean_absolute_percentage_error: 42.3302\n",
            "INFO: model evaluation on test data:\n",
            "\tloss: 0.08343502879142761\n",
            "\tMAPE: 42.3302001953125\n",
            "INFO: error: 42.3302001953125\n",
            "INFO: trying {'n_recurrent_units': 64, 'n_dense_units': 70, 'scale': 0.044823748117378506, 'lr': 0.0020612158614623354, 'dr': 0.8497385145859555}...\n",
            "7/7 [==============================] - 0s 8ms/step - loss: 0.0962 - mean_absolute_percentage_error: 55.8343\n",
            "INFO: model evaluation on test data:\n",
            "\tloss: 0.09623190015554428\n",
            "\tMAPE: 55.83430099487305\n",
            "INFO: error: 55.83430099487305\n",
            "INFO: trying {'n_recurrent_units': 80, 'n_dense_units': 31, 'scale': 0.018593612300819757, 'lr': 0.01472521370632327, 'dr': 0.8255770263513666}...\n",
            "7/7 [==============================] - 0s 9ms/step - loss: 0.0880 - mean_absolute_percentage_error: 39.6019\n",
            "INFO: model evaluation on test data:\n",
            "\tloss: 0.08798573911190033\n",
            "\tMAPE: 39.60186767578125\n",
            "INFO: error: 39.60186767578125\n",
            "INFO: trying {'n_recurrent_units': 43, 'n_dense_units': 43, 'scale': 0.08426634028648715, 'lr': 0.05489588307050329, 'dr': 0.819722434837122}...\n",
            "7/7 [==============================] - 0s 8ms/step - loss: 0.0913 - mean_absolute_percentage_error: 46.5127\n",
            "INFO: model evaluation on test data:\n",
            "\tloss: 0.09131503105163574\n",
            "\tMAPE: 46.512691497802734\n",
            "INFO: error: 46.512691497802734\n",
            "INFO: trying {'n_recurrent_units': 78, 'n_dense_units': 49, 'scale': 0.06249418219340897, 'lr': 0.021715903070110707, 'dr': 0.9342399463358049}...\n",
            "7/7 [==============================] - 0s 9ms/step - loss: 0.0914 - mean_absolute_percentage_error: 41.4295\n",
            "INFO: model evaluation on test data:\n",
            "\tloss: 0.09142022579908371\n",
            "\tMAPE: 41.42948532104492\n",
            "INFO: error: 41.42948532104492\n",
            "INFO: trying {'n_recurrent_units': 25, 'n_dense_units': 94, 'scale': 0.03080536312623717, 'lr': 0.04897107342842048, 'dr': 0.8107147542609308}...\n",
            "7/7 [==============================] - 0s 7ms/step - loss: 0.1842 - mean_absolute_percentage_error: 129.8186\n",
            "INFO: model evaluation on test data:\n",
            "\tloss: 0.18415655195713043\n",
            "\tMAPE: 129.8185577392578\n",
            "INFO: error: 129.8185577392578\n",
            "INFO: trying {'n_recurrent_units': 27, 'n_dense_units': 56, 'scale': 0.035834752180026345, 'lr': 0.0678436248185473, 'dr': 0.8045724398776366}...\n",
            "7/7 [==============================] - 0s 6ms/step - loss: 0.1884 - mean_absolute_percentage_error: 126.9487\n",
            "INFO: model evaluation on test data:\n",
            "\tloss: 0.1884017437696457\n",
            "\tMAPE: 126.94872283935547\n",
            "INFO: error: 126.94872283935547\n",
            "INFO: trying {'n_recurrent_units': 96, 'n_dense_units': 78, 'scale': 0.05535640563707173, 'lr': 0.07476063696738323, 'dr': 0.9694087845023176}...\n",
            "7/7 [==============================] - 0s 12ms/step - loss: 0.0841 - mean_absolute_percentage_error: 40.4936\n",
            "INFO: model evaluation on test data:\n",
            "\tloss: 0.08414238691329956\n",
            "\tMAPE: 40.49358367919922\n",
            "INFO: error: 40.49358367919922\n",
            "INFO: trying {'n_recurrent_units': 64, 'n_dense_units': 31, 'scale': 0.0545191595895115, 'lr': 0.056613884352671014, 'dr': 0.9455072582456321}...\n",
            "7/7 [==============================] - 0s 8ms/step - loss: 0.1049 - mean_absolute_percentage_error: 56.4285\n",
            "INFO: model evaluation on test data:\n",
            "\tloss: 0.10492256283760071\n",
            "\tMAPE: 56.42848587036133\n",
            "INFO: error: 56.42848587036133\n",
            "INFO: trying {'n_recurrent_units': 92, 'n_dense_units': 40, 'scale': 0.09687936080877314, 'lr': 0.054771460060745736, 'dr': 0.970513506487396}...\n",
            "7/7 [==============================] - 0s 11ms/step - loss: 0.1705 - mean_absolute_percentage_error: 125.6642\n",
            "INFO: model evaluation on test data:\n",
            "\tloss: 0.17046840488910675\n",
            "\tMAPE: 125.66415405273438\n",
            "INFO: error: 125.66415405273438\n",
            "INFO: trying {'n_recurrent_units': 30, 'n_dense_units': 86, 'scale': 0.07819360065164177, 'lr': 0.0474315229166263, 'dr': 0.9775599175366139}...\n",
            "7/7 [==============================] - 0s 7ms/step - loss: 0.0882 - mean_absolute_percentage_error: 39.2123\n",
            "INFO: model evaluation on test data:\n",
            "\tloss: 0.08819405734539032\n",
            "\tMAPE: 39.21232986450195\n",
            "INFO: error: 39.21232986450195\n",
            "INFO: trying {'n_recurrent_units': 21, 'n_dense_units': 90, 'scale': 0.027083711024488824, 'lr': 0.058133993751115574, 'dr': 0.8025877727392792}...\n",
            "7/7 [==============================] - 0s 6ms/step - loss: 0.1876 - mean_absolute_percentage_error: 128.1148\n",
            "INFO: model evaluation on test data:\n",
            "\tloss: 0.18762452900409698\n",
            "\tMAPE: 128.1148223876953\n",
            "INFO: error: 128.1148223876953\n",
            "INFO: trying {'n_recurrent_units': 87, 'n_dense_units': 25, 'scale': 0.07731196703505987, 'lr': 0.00251700477785738, 'dr': 0.911107162571095}...\n",
            "7/7 [==============================] - 0s 15ms/step - loss: 0.0941 - mean_absolute_percentage_error: 48.4044\n",
            "INFO: model evaluation on test data:\n",
            "\tloss: 0.09411675482988358\n",
            "\tMAPE: 48.40441131591797\n",
            "INFO: error: 48.40441131591797\n",
            "INFO: trying {'n_recurrent_units': 36, 'n_dense_units': 95, 'scale': 0.06315253824365887, 'lr': 0.057849427573517284, 'dr': 0.9284336240814973}...\n",
            "7/7 [==============================] - 0s 7ms/step - loss: 0.1827 - mean_absolute_percentage_error: 131.7392\n",
            "INFO: model evaluation on test data:\n",
            "\tloss: 0.1826963722705841\n",
            "\tMAPE: 131.7391815185547\n",
            "INFO: error: 131.7391815185547\n",
            "INFO: trying {'n_recurrent_units': 41, 'n_dense_units': 89, 'scale': 0.03023733194658993, 'lr': 0.024017302083871116, 'dr': 0.8014718021755164}...\n",
            "7/7 [==============================] - 0s 8ms/step - loss: 0.0865 - mean_absolute_percentage_error: 41.8344\n",
            "INFO: model evaluation on test data:\n",
            "\tloss: 0.0865202248096466\n",
            "\tMAPE: 41.834354400634766\n",
            "INFO: error: 41.834354400634766\n"
          ],
          "name": "stdout"
        }
      ]
    },
    {
      "cell_type": "code",
      "metadata": {
        "colab": {
          "base_uri": "https://localhost:8080/"
        },
        "id": "8sbFWHmt1r9Z",
        "outputId": "f3519662-a4d4-4854-e075-628f8a1498cf"
      },
      "source": [
        "hyperparameters"
      ],
      "execution_count": 93,
      "outputs": [
        {
          "output_type": "execute_result",
          "data": {
            "text/plain": [
              "['hp', 'error']"
            ]
          },
          "metadata": {
            "tags": []
          },
          "execution_count": 93
        }
      ]
    },
    {
      "cell_type": "code",
      "metadata": {
        "colab": {
          "base_uri": "https://localhost:8080/",
          "height": 1000
        },
        "id": "GrmYGM_RhpKY",
        "outputId": "c16f1211-e15e-4767-d941-84e991b96a7d"
      },
      "source": [
        "hyperparameters = list(rgs_result[0].get('hp').keys())\n",
        "ys = [d.get('error') for d in rgs_result]\n",
        "for hyperparameter in hyperparameters:\n",
        "  xs = [d.get('hp').get(hyperparameter) for d in rgs_result]\n",
        "  plt.scatter(xs, ys)\n",
        "  plt.xlabel(hyperparameter)\n",
        "  plt.ylabel('Error')\n",
        "  plt.title(f'Error by {hyperparameter}')\n",
        "  plt.show()"
      ],
      "execution_count": 97,
      "outputs": [
        {
          "output_type": "display_data",
          "data": {
            "image/png": "[encoded data removed]",
            "text/plain": [
              "<Figure size 864x648 with 1 Axes>"
            ]
          },
          "metadata": {
            "tags": [],
            "needs_background": "light"
          }
        },
        {
          "output_type": "display_data",
          "data": {
            "image/png": "[encoded data removed]",
            "text/plain": [
              "<Figure size 864x648 with 1 Axes>"
            ]
          },
          "metadata": {
            "tags": [],
            "needs_background": "light"
          }
        },
        {
          "output_type": "display_data",
          "data": {
            "image/png": "[encoded data removed]",
            "text/plain": [
              "<Figure size 864x648 with 1 Axes>"
            ]
          },
          "metadata": {
            "tags": [],
            "needs_background": "light"
          }
        },
        {
          "output_type": "display_data",
          "data": {
            "image/png": "[encoded data removed]",
            "text/plain": [
              "<Figure size 864x648 with 1 Axes>"
            ]
          },
          "metadata": {
            "tags": [],
            "needs_background": "light"
          }
        },
        {
          "output_type": "display_data",
          "data": {
            "image/png": "[encoded data removed]",
            "text/plain": [
              "<Figure size 864x648 with 1 Axes>"
            ]
          },
          "metadata": {
            "tags": [],
            "needs_background": "light"
          }
        }
      ]
    },
    {
      "cell_type": "code",
      "metadata": {
        "id": "izw57AV72b_J"
      },
      "source": [
        "def get_best_hp(rgs_result: List[Dict]):\n",
        "  best_error = None\n",
        "  for r in rgs_result:\n",
        "    if r.get('error') is None:\n",
        "      continue\n",
        "    if best_error is None or r.get('error') < best_error:\n",
        "      best_hp = r.get('hp')\n",
        "      best_error = r.get('error')\n",
        "  return best_hp, best_error"
      ],
      "execution_count": 102,
      "outputs": []
    },
    {
      "cell_type": "code",
      "metadata": {
        "colab": {
          "base_uri": "https://localhost:8080/"
        },
        "id": "Oxtv8mg73LsF",
        "outputId": "cd0c176a-0027-454b-c1b0-88a045bcbab9"
      },
      "source": [
        "best_hp, best_error = get_best_hp(rgs_result)\n",
        "print(f'best_hp: {best_hp}\\nCorresponding best_error: {best_error}')"
      ],
      "execution_count": 103,
      "outputs": [
        {
          "output_type": "stream",
          "text": [
            "best_hp: {'n_recurrent_units': 10, 'n_dense_units': 82, 'scale': 0.05212227145864078, 'lr': 0.02387032756002441, 'dr': 0.9880080490088943}\n",
            "Corresponding best_error: 37.548919677734375\n"
          ],
          "name": "stdout"
        }
      ]
    },
    {
      "cell_type": "code",
      "metadata": {
        "colab": {
          "base_uri": "https://localhost:8080/"
        },
        "id": "yvddyQ4w4Dpn",
        "outputId": "eac85249-e0b6-4195-bb45-6b229873fc9d"
      },
      "source": [
        "model = get_model(n_prior=n_prior, n_features=1, n_to_predict=n_to_predict,\n",
        "              scale = best_hp.get('scale'),\n",
        "              n_recurrent_units=best_hp.get('n_recurrent_units'), \n",
        "              n_dense_units=best_hp.get('n_dense_units'))\n",
        "\n",
        "train_persist_model(model=model, X_train=X_train, X_val=X_val, X_test=X_test, \n",
        "                  y_train=y_train, y_val=y_val, y_test=y_test, \n",
        "                  model_name=f'{stock} {target} price', model_path=None, \n",
        "                  lr=best_hp.get('lr'), dr=best_hp.get('dr'),\n",
        "                  max_epochs=max_epochs, patience=patience, \n",
        "                  batch_size=batch_size, plot=False, verbose=0)"
      ],
      "execution_count": 104,
      "outputs": [
        {
          "output_type": "stream",
          "text": [
            "7/7 [==============================] - 0s 6ms/step - loss: 0.0929 - mean_absolute_percentage_error: 37.0497\n",
            "INFO: model evaluation on test data:\n",
            "\tloss: 0.092891164124012\n",
            "\tMAPE: 37.049705505371094\n"
          ],
          "name": "stdout"
        },
        {
          "output_type": "execute_result",
          "data": {
            "text/plain": [
              "37.049705505371094"
            ]
          },
          "metadata": {
            "tags": []
          },
          "execution_count": 104
        }
      ]
    },
    {
      "cell_type": "markdown",
      "metadata": {
        "id": "611SyKwjZ4kG"
      },
      "source": [
        "## Make prediction"
      ]
    },
    {
      "cell_type": "code",
      "metadata": {
        "id": "Vn-peZHKaQn8"
      },
      "source": [
        "def generate_prediction(predict_from: str, stock: str, target: str, model: Model, \n",
        "                        n_prior: int = 21, valid: bool = False) -> None:\n",
        "  \"\"\" Generate predictions from the date `predict_from` based on the `n_prior` \n",
        "  previous values for the price `target` of `stock`\n",
        "    Args:\n",
        "        predict_from (str): format 'yyyy-mm-dd', date after which the predictions will start\n",
        "        stock (str): code of the stock on Yahoo Finance\n",
        "        target (str): target price to predict (e.g. 'Close')\n",
        "        model (Model): Tensorflow model trained for making predictions\n",
        "        n_prior (int): number of previous values to use for the prediction \n",
        "            (must be the same than the one used to train the `model`)\n",
        "        valid (bool): if to plot the actual vs. the predicted values \n",
        "            (only if the prediction time range lies in the past)\n",
        "    \"\"\"\n",
        "  predict_from_dt = datetime.strptime(predict_from, '%Y-%m-%d')\n",
        "  start_dt = predict_from_dt - timedelta(days=int(n_prior * 1.5))\n",
        "  start = start_dt.strftime('%Y-%m-%d')\n",
        "  data = yf.download(tickers=stock, period='1d', start=start, end=predict_from)\n",
        "  data = data[target]\n",
        "  # Normalize\n",
        "  min_value, max_value = data.min(), data.max()\n",
        "  data = (data - min_value) / (max_value - min_value)\n",
        "  data = data.values[data.shape[0] - n_prior:].reshape(1, -1, 1)\n",
        "\n",
        "  predictions = model.predict(data)\n",
        "  predictions = predictions * (max_value - min_value) + min_value # de-normalize\n",
        "  predictions = predictions.flatten()\n",
        "  prediction_dates = [predict_from_dt + timedelta(days=i+1) for i in range(predictions.shape[0])]\n",
        "  predictions = DataFrame({'date': prediction_dates, 'prediction': predictions})\n",
        "  predictions = predictions.set_index('date')\n",
        "  if valid:\n",
        "    start_valid = predict_from_dt + timedelta(days=1)\n",
        "    end_valid = predict_from_dt + timedelta(int(1.5 * predictions.shape[0]))\n",
        "    start_valid = start_valid.strftime('%Y-%m-%d')\n",
        "    end_valid = end_valid.strftime('%Y-%m-%d')\n",
        "    true_values = yf.download(tickers=stock, period='1d', start=start_valid, end=end_valid)\n",
        "    true_values = true_values[[target]].loc[:predictions.index.max(),:]\n",
        "    fig, ax = plt.subplots(1)\n",
        "    ax.plot(true_values, label='actual')\n",
        "    ax.plot(predictions, label='predicted')\n",
        "    ax.set_title(f'Actual vs. Prediction for stock {stock} between {start_valid} and {end_valid}')\n",
        "    ax.set(xlabel='day', ylabel=f'{stock} ${target} price ($)')\n",
        "    ax.legend()\n",
        "    plt.show()\n",
        "  return predictions"
      ],
      "execution_count": 105,
      "outputs": []
    },
    {
      "cell_type": "code",
      "metadata": {
        "colab": {
          "base_uri": "https://localhost:8080/",
          "height": 602
        },
        "id": "QzXZGuIaaWTW",
        "outputId": "e555c78b-94b5-4995-8f14-23eedcc5f45a"
      },
      "source": [
        "predict_from = '2021-04-25'\n",
        "predictions = generate_prediction(predict_from=predict_from, stock=stock, \n",
        "                                  target=target, model=model, n_prior=n_prior, \n",
        "                                  valid=True)"
      ],
      "execution_count": 112,
      "outputs": [
        {
          "output_type": "stream",
          "text": [
            "[*********************100%***********************]  1 of 1 completed\n",
            "[*********************100%***********************]  1 of 1 completed\n"
          ],
          "name": "stdout"
        },
        {
          "output_type": "display_data",
          "data": {
            "image/png": "[encoded data removed]",
            "text/plain": [
              "<Figure size 864x648 with 1 Axes>"
            ]
          },
          "metadata": {
            "tags": [],
            "needs_background": "light"
          }
        }
      ]
    },
    {
      "cell_type": "code",
      "metadata": {
        "id": "__MswHX8bH_Z"
      },
      "source": [
        "predictions"
      ],
      "execution_count": null,
      "outputs": []
    },
    {
      "cell_type": "code",
      "metadata": {
        "id": "w9Zvkh8K03e9"
      },
      "source": [
        ""
      ],
      "execution_count": null,
      "outputs": []
    }
  ]
}