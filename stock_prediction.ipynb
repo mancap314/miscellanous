{
  "nbformat": 4,
  "nbformat_minor": 0,
  "metadata": {
    "colab": {
      "name": "stock_prediction.ipynb",
      "provenance": [],
      "authorship_tag": "ABX9TyPuo/A06aTFWzdokdqKHjW8",
      "include_colab_link": true
    },
    "kernelspec": {
      "name": "python3",
      "display_name": "Python 3"
    },
    "language_info": {
      "name": "python"
    }
  },
  "cells": [
    {
      "cell_type": "markdown",
      "metadata": {
        "id": "view-in-github",
        "colab_type": "text"
      },
      "source": [
        "<a href=\"https://colab.research.google.com/github/mancap314/miscellanous/blob/master/stock_prediction.ipynb\" target=\"_parent\"><img src=\"https://colab.research.google.com/assets/colab-badge.svg\" alt=\"Open In Colab\"/></a>"
      ]
    },
    {
      "cell_type": "markdown",
      "metadata": {
        "id": "k_Djzu2SAl-H"
      },
      "source": [
        "# Predict Stock price\n",
        "\n",
        "This is a notebook illustrating how to predict stock price from [Yahoo Finance](https://finance.yahoo.com/) data with a recurrent neural network."
      ]
    },
    {
      "cell_type": "code",
      "metadata": {
        "colab": {
          "base_uri": "https://localhost:8080/"
        },
        "id": "1UmAmERoB7kG",
        "outputId": "66d8d517-b139-4776-c299-ca45671ec653"
      },
      "source": [
        "# Install library for fetching Yahoo Finance data\n",
        "!pip install yfinance"
      ],
      "execution_count": 1,
      "outputs": [
        {
          "output_type": "stream",
          "text": [
            "Requirement already satisfied: yfinance in /usr/local/lib/python3.7/dist-packages (0.1.59)\n",
            "Requirement already satisfied: numpy>=1.15 in /usr/local/lib/python3.7/dist-packages (from yfinance) (1.19.5)\n",
            "Requirement already satisfied: requests>=2.20 in /usr/local/lib/python3.7/dist-packages (from yfinance) (2.23.0)\n",
            "Requirement already satisfied: pandas>=0.24 in /usr/local/lib/python3.7/dist-packages (from yfinance) (1.1.5)\n",
            "Requirement already satisfied: multitasking>=0.0.7 in /usr/local/lib/python3.7/dist-packages (from yfinance) (0.0.9)\n",
            "Requirement already satisfied: lxml>=4.5.1 in /usr/local/lib/python3.7/dist-packages (from yfinance) (4.6.3)\n",
            "Requirement already satisfied: urllib3!=1.25.0,!=1.25.1,<1.26,>=1.21.1 in /usr/local/lib/python3.7/dist-packages (from requests>=2.20->yfinance) (1.24.3)\n",
            "Requirement already satisfied: certifi>=2017.4.17 in /usr/local/lib/python3.7/dist-packages (from requests>=2.20->yfinance) (2020.12.5)\n",
            "Requirement already satisfied: chardet<4,>=3.0.2 in /usr/local/lib/python3.7/dist-packages (from requests>=2.20->yfinance) (3.0.4)\n",
            "Requirement already satisfied: idna<3,>=2.5 in /usr/local/lib/python3.7/dist-packages (from requests>=2.20->yfinance) (2.10)\n",
            "Requirement already satisfied: python-dateutil>=2.7.3 in /usr/local/lib/python3.7/dist-packages (from pandas>=0.24->yfinance) (2.8.1)\n",
            "Requirement already satisfied: pytz>=2017.2 in /usr/local/lib/python3.7/dist-packages (from pandas>=0.24->yfinance) (2018.9)\n",
            "Requirement already satisfied: six>=1.5 in /usr/local/lib/python3.7/dist-packages (from python-dateutil>=2.7.3->pandas>=0.24->yfinance) (1.15.0)\n"
          ],
          "name": "stdout"
        }
      ]
    },
    {
      "cell_type": "code",
      "metadata": {
        "id": "Et_lSzUwCEat"
      },
      "source": [
        "import yfinance as yf\n",
        "import matplotlib.pyplot as plt\n",
        "from pandas import DataFrame, Series\n",
        "from typing import Tuple, Union\n",
        "from numpy import array, arange, zeros\n",
        "from numpy.random import permutation\n",
        "from pathlib import Path\n",
        "from datetime import datetime, timedelta\n",
        "\n",
        "plt.rcParams['figure.figsize'] = [12, 9]  # plot larger than default"
      ],
      "execution_count": 2,
      "outputs": []
    },
    {
      "cell_type": "markdown",
      "metadata": {
        "id": "6SuxbKnF25Rv"
      },
      "source": [
        "Define some constants (adapt the values to your use case):"
      ]
    },
    {
      "cell_type": "code",
      "metadata": {
        "id": "dUmkwqnnETdz"
      },
      "source": [
        "stock = 'AAPL'\n",
        "# Train model with daily data between `start` and `end`\n",
        "start = '2017-01-01'\n",
        "end = '2020-12-31'\n",
        "target = 'Close'\n",
        "# We will use the `n_prior` previous days to predict the nex `n_to_predict` days\n",
        "n_prior = 21\n",
        "n_to_predict = 14\n",
        "# Proportion of validation and test data\n",
        "p_val = .1\n",
        "p_test = .2 "
      ],
      "execution_count": 3,
      "outputs": []
    },
    {
      "cell_type": "markdown",
      "metadata": {
        "id": "ueSqgtuxDe1C"
      },
      "source": [
        "## Fetching data\n",
        "Fetch data directly from the *yfinance* library"
      ]
    },
    {
      "cell_type": "code",
      "metadata": {
        "colab": {
          "base_uri": "https://localhost:8080/"
        },
        "id": "S-HD3SLCApHj",
        "outputId": "b4136bb3-57f5-477c-bcde-f5ba4c0ae7a9"
      },
      "source": [
        "data = yf.download(tickers=stock, period='1d', start=start, end=end)"
      ],
      "execution_count": 4,
      "outputs": [
        {
          "output_type": "stream",
          "text": [
            "\r[*********************100%***********************]  1 of 1 completed\n"
          ],
          "name": "stdout"
        }
      ]
    },
    {
      "cell_type": "code",
      "metadata": {
        "colab": {
          "base_uri": "https://localhost:8080/",
          "height": 455
        },
        "id": "BMuJUezaBOlG",
        "outputId": "31ea2ca3-19fb-4953-ba61-fa180a3a381f"
      },
      "source": [
        "data"
      ],
      "execution_count": 5,
      "outputs": [
        {
          "output_type": "execute_result",
          "data": {
            "text/html": [
              "<div>\n",
              "<style scoped>\n",
              "    .dataframe tbody tr th:only-of-type {\n",
              "        vertical-align: middle;\n",
              "    }\n",
              "\n",
              "    .dataframe tbody tr th {\n",
              "        vertical-align: top;\n",
              "    }\n",
              "\n",
              "    .dataframe thead th {\n",
              "        text-align: right;\n",
              "    }\n",
              "</style>\n",
              "<table border=\"1\" class=\"dataframe\">\n",
              "  <thead>\n",
              "    <tr style=\"text-align: right;\">\n",
              "      <th></th>\n",
              "      <th>Open</th>\n",
              "      <th>High</th>\n",
              "      <th>Low</th>\n",
              "      <th>Close</th>\n",
              "      <th>Adj Close</th>\n",
              "      <th>Volume</th>\n",
              "    </tr>\n",
              "    <tr>\n",
              "      <th>Date</th>\n",
              "      <th></th>\n",
              "      <th></th>\n",
              "      <th></th>\n",
              "      <th></th>\n",
              "      <th></th>\n",
              "      <th></th>\n",
              "    </tr>\n",
              "  </thead>\n",
              "  <tbody>\n",
              "    <tr>\n",
              "      <th>2017-01-03</th>\n",
              "      <td>28.950001</td>\n",
              "      <td>29.082500</td>\n",
              "      <td>28.690001</td>\n",
              "      <td>29.037500</td>\n",
              "      <td>27.413372</td>\n",
              "      <td>115127600</td>\n",
              "    </tr>\n",
              "    <tr>\n",
              "      <th>2017-01-04</th>\n",
              "      <td>28.962500</td>\n",
              "      <td>29.127501</td>\n",
              "      <td>28.937500</td>\n",
              "      <td>29.004999</td>\n",
              "      <td>27.382690</td>\n",
              "      <td>84472400</td>\n",
              "    </tr>\n",
              "    <tr>\n",
              "      <th>2017-01-05</th>\n",
              "      <td>28.980000</td>\n",
              "      <td>29.215000</td>\n",
              "      <td>28.952499</td>\n",
              "      <td>29.152500</td>\n",
              "      <td>27.521944</td>\n",
              "      <td>88774400</td>\n",
              "    </tr>\n",
              "    <tr>\n",
              "      <th>2017-01-06</th>\n",
              "      <td>29.195000</td>\n",
              "      <td>29.540001</td>\n",
              "      <td>29.117500</td>\n",
              "      <td>29.477501</td>\n",
              "      <td>27.828764</td>\n",
              "      <td>127007600</td>\n",
              "    </tr>\n",
              "    <tr>\n",
              "      <th>2017-01-09</th>\n",
              "      <td>29.487499</td>\n",
              "      <td>29.857500</td>\n",
              "      <td>29.485001</td>\n",
              "      <td>29.747499</td>\n",
              "      <td>28.083660</td>\n",
              "      <td>134247600</td>\n",
              "    </tr>\n",
              "    <tr>\n",
              "      <th>...</th>\n",
              "      <td>...</td>\n",
              "      <td>...</td>\n",
              "      <td>...</td>\n",
              "      <td>...</td>\n",
              "      <td>...</td>\n",
              "      <td>...</td>\n",
              "    </tr>\n",
              "    <tr>\n",
              "      <th>2020-12-23</th>\n",
              "      <td>132.160004</td>\n",
              "      <td>132.429993</td>\n",
              "      <td>130.779999</td>\n",
              "      <td>130.960007</td>\n",
              "      <td>130.542862</td>\n",
              "      <td>88223700</td>\n",
              "    </tr>\n",
              "    <tr>\n",
              "      <th>2020-12-24</th>\n",
              "      <td>131.320007</td>\n",
              "      <td>133.460007</td>\n",
              "      <td>131.100006</td>\n",
              "      <td>131.970001</td>\n",
              "      <td>131.549637</td>\n",
              "      <td>54930100</td>\n",
              "    </tr>\n",
              "    <tr>\n",
              "      <th>2020-12-28</th>\n",
              "      <td>133.990005</td>\n",
              "      <td>137.339996</td>\n",
              "      <td>133.509995</td>\n",
              "      <td>136.690002</td>\n",
              "      <td>136.254608</td>\n",
              "      <td>124486200</td>\n",
              "    </tr>\n",
              "    <tr>\n",
              "      <th>2020-12-29</th>\n",
              "      <td>138.050003</td>\n",
              "      <td>138.789993</td>\n",
              "      <td>134.339996</td>\n",
              "      <td>134.869995</td>\n",
              "      <td>134.440399</td>\n",
              "      <td>121047300</td>\n",
              "    </tr>\n",
              "    <tr>\n",
              "      <th>2020-12-30</th>\n",
              "      <td>135.580002</td>\n",
              "      <td>135.990005</td>\n",
              "      <td>133.399994</td>\n",
              "      <td>133.720001</td>\n",
              "      <td>133.294067</td>\n",
              "      <td>96452100</td>\n",
              "    </tr>\n",
              "  </tbody>\n",
              "</table>\n",
              "<p>1006 rows × 6 columns</p>\n",
              "</div>"
            ],
            "text/plain": [
              "                  Open        High  ...   Adj Close     Volume\n",
              "Date                                ...                       \n",
              "2017-01-03   28.950001   29.082500  ...   27.413372  115127600\n",
              "2017-01-04   28.962500   29.127501  ...   27.382690   84472400\n",
              "2017-01-05   28.980000   29.215000  ...   27.521944   88774400\n",
              "2017-01-06   29.195000   29.540001  ...   27.828764  127007600\n",
              "2017-01-09   29.487499   29.857500  ...   28.083660  134247600\n",
              "...                ...         ...  ...         ...        ...\n",
              "2020-12-23  132.160004  132.429993  ...  130.542862   88223700\n",
              "2020-12-24  131.320007  133.460007  ...  131.549637   54930100\n",
              "2020-12-28  133.990005  137.339996  ...  136.254608  124486200\n",
              "2020-12-29  138.050003  138.789993  ...  134.440399  121047300\n",
              "2020-12-30  135.580002  135.990005  ...  133.294067   96452100\n",
              "\n",
              "[1006 rows x 6 columns]"
            ]
          },
          "metadata": {
            "tags": []
          },
          "execution_count": 5
        }
      ]
    },
    {
      "cell_type": "markdown",
      "metadata": {
        "id": "rJ3v3bHhD4YX"
      },
      "source": [
        "We want only the `target` values:"
      ]
    },
    {
      "cell_type": "code",
      "metadata": {
        "id": "Rk5S7Px-BV_R"
      },
      "source": [
        "data = data[[target]]"
      ],
      "execution_count": 6,
      "outputs": []
    },
    {
      "cell_type": "code",
      "metadata": {
        "colab": {
          "base_uri": "https://localhost:8080/",
          "height": 538
        },
        "id": "_alp-YAED-lM",
        "outputId": "08607e4c-9466-45bc-c1a9-8d8d0c43e99e"
      },
      "source": [
        "data.plot()\n",
        "plt.xlabel(f'Date')\n",
        "plt.ylabel(f'{stock} price ($)')\n",
        "plt.title(f'{stock} price between {start} and {end}')\n",
        "plt.show()"
      ],
      "execution_count": 7,
      "outputs": [
        {
          "output_type": "display_data",
          "data": {
            "image/png": "[encoded data removed]",
            "text/plain": [
              "<Figure size 864x648 with 1 Axes>"
            ]
          },
          "metadata": {
            "tags": [],
            "needs_background": "light"
          }
        }
      ]
    },
    {
      "cell_type": "markdown",
      "metadata": {
        "id": "AULpGIBSIqb2"
      },
      "source": [
        "## Prepare training data\n",
        "First we define a function `build_x_y()` that will take slices from the column `target` of `data`. Each slice will be split into a range of `n_prior` days for `X` and the following `n_to_predict` day for `y`.\n",
        "\n",
        "### Create `X` and `y`"
      ]
    },
    {
      "cell_type": "code",
      "metadata": {
        "id": "x9OKE8gyGllO"
      },
      "source": [
        "def build_x_y(data: DataFrame, target: str = 'Close',  n_prior: int = 21, \n",
        "              n_to_predict: int = 14) -> Tuple[array, array]:\n",
        "    \"\"\" Split `df` into X and y. X is a 2-dimensional numpy array. The first \n",
        "    dimension corresponds to the sample, the second to the sequence in a sample \n",
        "    and the third to the features in each element of the sequence. `y` is a \n",
        "    2-dimensional array, the first is for the samples and the second for the \n",
        "    output values of the corresponding sequence.\n",
        "\n",
        "    Args:\n",
        "        data (DataFrame): Preprocessed input dataset\n",
        "        target (str, optional): Column name of the target variable in `data`. \n",
        "            Defaults to 'Close'.\n",
        "        n_prior (int, optional): Number of days in the past used in each sample\n",
        "           of the training dataset. Defaults to 21.\n",
        "        n_to_predict (int, optional): Numbers of day to predict ahead. \n",
        "            Defaults to 14.\n",
        "\n",
        "    Returns:\n",
        "        Tuple[array, array]: Input and output corresponding to the preprocessed \n",
        "          samples in `data`.\n",
        "    \"\"\"\n",
        "    n = n_prior + n_to_predict  # batch \"width\"\n",
        "    s0, s1 = data.shape[0], data.shape[1]\n",
        "    s = s0 - n  # size of training data\n",
        "\n",
        "    X, y = zeros(shape=(s, n_prior, s1)), zeros(shape=(s, n_to_predict))\n",
        "    shuffled_order = permutation(arange(0, s, 1)) # shuffle data directly\n",
        "    for i in shuffled_order:\n",
        "        X[i] = data.iloc[i: i + n_prior,:].values\n",
        "        y[i] = data[target][i + n_prior: i + n]\n",
        "        # Normalize each batch individually\n",
        "        mean, std = X[i].mean(), X[i].std()\n",
        "        X[i] = (X[i] - mean) / std\n",
        "        y[i] = (y[i] - mean) / std\n",
        "        \n",
        "    return X, y"
      ],
      "execution_count": 8,
      "outputs": []
    },
    {
      "cell_type": "code",
      "metadata": {
        "id": "Vm-lTZg8H74L"
      },
      "source": [
        "X, y = build_x_y(data=data, target='Close', n_prior=n_prior, n_to_predict=n_to_predict)"
      ],
      "execution_count": 9,
      "outputs": []
    },
    {
      "cell_type": "markdown",
      "metadata": {
        "id": "ZK-WLxOALyEe"
      },
      "source": [
        "### Split `X` and `y`\n",
        "Compute where to split `X` and `y` to obtain a proportion `p_val` of validation data and `p_test` of test data:"
      ]
    },
    {
      "cell_type": "code",
      "metadata": {
        "id": "C8TEgt2RJ9hQ"
      },
      "source": [
        "def get_split_inds(size: int, p_val: float = .1, p_test: float = .2, \n",
        "                   do_shuffle: bool = False) -> Tuple[array, array, array]:\n",
        "    \"\"\" Compute indices corresponding to the random splitting of `size` samples in train, validation and test sets \n",
        "    with size corresponding to `p_test` and `p_val`.\n",
        "\n",
        "    Args:\n",
        "        size (int): Number of samples in the dataset to split.\n",
        "        p_val (float, optional): Proportion of validation data in the split. Defaults to .1.\n",
        "        p_test (float, optional): Proportion of test data in the split. Defaults to .2.\n",
        "\n",
        "    Returns:\n",
        "        Tuple[array, array, array]: Three arrays corresponding to the indices of the train, validation and test sets.\n",
        "    \"\"\"\n",
        "    indices = arange(0, size, 1)\n",
        "    if do_shuffle:\n",
        "      indices = permutation(indices)\n",
        "\n",
        "    val_split_ind = round(size * (1 - p_test - p_val))\n",
        "    test_split_ind = round(size * (1 - p_test))\n",
        "\n",
        "    train_inds = indices[:val_split_ind]\n",
        "    val_inds = indices[val_split_ind: test_split_ind]\n",
        "    test_inds = indices[test_split_ind:]\n",
        "    \n",
        "    return train_inds, val_inds, test_inds"
      ],
      "execution_count": 10,
      "outputs": []
    },
    {
      "cell_type": "code",
      "metadata": {
        "id": "FI4jBHsRMIbK"
      },
      "source": [
        "size = X.shape[0]\n",
        "train_inds, val_inds, test_inds = get_split_inds(size=size, p_val=p_val, p_test=p_test)\n",
        "X_train, X_val, X_test = X[train_inds], X[val_inds], X[test_inds]\n",
        "y_train, y_val, y_test = y[train_inds], y[val_inds], y[test_inds]"
      ],
      "execution_count": 11,
      "outputs": []
    },
    {
      "cell_type": "markdown",
      "metadata": {
        "id": "NS7Xdc0gPCvk"
      },
      "source": [
        "## Modelization\n",
        "\n"
      ]
    },
    {
      "cell_type": "code",
      "metadata": {
        "id": "av1lwHsSp1BT"
      },
      "source": [
        "from tensorflow.keras.layers import Input, GRU, Lambda, Dense, Dropout\n",
        "from tensorflow.keras.models import Model\n",
        "from tensorflow.keras.callbacks import EarlyStopping, LearningRateScheduler, History\n",
        "from tensorflow.keras.optimizers import Adam\n",
        "from tensorflow.keras.losses import Huber\n",
        "from tensorflow.keras.metrics import MeanAbsoluteError\n",
        "from tensorflow import expand_dims, matmul\n",
        "from tensorflow.nn import softmax"
      ],
      "execution_count": 12,
      "outputs": []
    },
    {
      "cell_type": "markdown",
      "metadata": {
        "id": "nQUgua962_0j"
      },
      "source": [
        "Define some model trainin specific constants:"
      ]
    },
    {
      "cell_type": "code",
      "metadata": {
        "id": "bIEPvilITFA_"
      },
      "source": [
        "n_units = 100  # size of the LSTM layers\n",
        "lr = 1e-3  # learning rate\n",
        "dr = .99  # decay rate\n",
        "max_epochs = 300\n",
        "patience = 10\n",
        "batch_size = 32\n",
        "model_path = None  # if None: will not be persisted\n",
        "patience = 10\n"
      ],
      "execution_count": 13,
      "outputs": []
    },
    {
      "cell_type": "markdown",
      "metadata": {
        "id": "SjNnh9yPTAc1"
      },
      "source": [
        "Define a function to provide a deep recurrent model:"
      ]
    },
    {
      "cell_type": "code",
      "metadata": {
        "id": "ushSAEhMOs4W"
      },
      "source": [
        "def attention_seq(query_value, scale):\n",
        "    \"\"\" Define time series specific attention layer\n",
        "    see: https://stackoverflow.com/questions/61757475/sequence-to-sequence-for-time-series-prediction \"\"\"\n",
        "    query, value = query_value\n",
        "    score = matmul(query, value, transpose_b=True) # (batch, timestamp, 1)\n",
        "    score = scale * score # scale with a fixed number (it can be finetuned or learned during train)\n",
        "    score = softmax(score, axis=1) # softmax on timestamp axis\n",
        "    score = score * query # (batch, timestamp, feat)\n",
        "    return score\n",
        "\n",
        "\n",
        "def get_model(n_prior: int, n_features: int, n_to_predict: int, \n",
        "              n_units: int = 100) -> Model:\n",
        "    \"\"\" Build and return a recurrent auto-encoder model for predicting.\n",
        "\n",
        "    Args:\n",
        "        n_prior (int): number of days in the past used in each sample of the training dataset.\n",
        "        n_features (int): number of  (columns) in the input dataset.\n",
        "        n_to_predict (int): numbers of day to predict ahead\n",
        "        n_units (int): size of the recurrent layer\n",
        "\n",
        "    Returns:\n",
        "        tf.keras.models.Model: reccurent auto-encoder model for predicting\n",
        "    \"\"\"\n",
        "    inp = Input((n_prior, n_features))\n",
        "    seq, state = GRU(n_units, activation='relu',\n",
        "                    return_state=True, return_sequences=True)(inp)\n",
        "    att = Lambda(attention_seq, arguments={'scale': 0.05})([seq, expand_dims(state,1)])\n",
        "    x = GRU(n_units, activation='relu')(att)\n",
        "    x = Dense(64, activation='relu')(x)\n",
        "    x = Dropout(0.5)(x)\n",
        "    out = Dense(n_to_predict)(x)\n",
        "\n",
        "    model = Model(inp, out)\n",
        "    return model"
      ],
      "execution_count": 14,
      "outputs": []
    },
    {
      "cell_type": "markdown",
      "metadata": {
        "id": "LD6Oe7SwRBgv"
      },
      "source": [
        "Define a function for training the model:"
      ]
    },
    {
      "cell_type": "code",
      "metadata": {
        "id": "7DSZzfXCMwu6"
      },
      "source": [
        "def train_persist_model(model: Model, X_train: DataFrame, X_val: DataFrame, X_test: DataFrame, y_train: Series,\n",
        "                        y_val: Series, y_test: Series, model_name: str, model_path: Union[str, Path, None], lr: float = 1e-3, dr: float = .99, \n",
        "                        max_epochs: int = 300, patience: int = 10, batch_size: int = 32, plot: bool = True, verbose: int = 0) -> None:\n",
        "    \"\"\" Train and persist a model for predicting.\n",
        "\n",
        "    Args:\n",
        "        model (tf.keras.models.Model): Tensorflow Keras model to train and persist\n",
        "        X_train (DataFrame): Training input dataset corresponding to past data with their features\n",
        "        X_val (DataFrame): Validation input dataset. Used at each batch to monitor model performance.\n",
        "        X_test (DataFrame): Test input dataset, for measuring model performance after training.\n",
        "        y_train (Series): Training output ground truth\n",
        "        y_val (Series): Validation output ground truth\n",
        "        y_test (Series): Test output ground truth.\n",
        "        model_name (str): name of the model\n",
        "        model_path (Union[str, Path]): Path under which the model will be persisted. If None, the model will not be persisted.\n",
        "        lr (float, optional): Learning rate for the optimizer training the model. Defaults to 1e-3.\n",
        "        dr (float, optional): Decay rate for the learning rate. Defaults to .99.\n",
        "        max_epochs (int, optional): Max. number of epochs for training the model. Defaults to 300.\n",
        "        patience (int, optional): number of epochs without improvement of val_loss before stopping\n",
        "        batch_size (int, optional): Number of training data samples in each batch. Defaults to 32.\n",
        "        plot (bool, optional): If to generate and persist plot corresponding to the training history. Defaults to True.\n",
        "        verbose (int, optional): If to print details during the training. Defaults to 0.\n",
        "    \"\"\"\n",
        "    reduce_lr = LearningRateScheduler(lambda x: lr * dr ** x)\n",
        "    early_stopping = EarlyStopping(monitor='val_loss',\n",
        "                                   patience=patience,\n",
        "                                   mode='min',\n",
        "                                   restore_best_weights=True)\n",
        "\n",
        "\n",
        "    model.compile(optimizer=Adam(),\n",
        "                loss=Huber(),\n",
        "                metrics=[MeanAbsoluteError()])\n",
        "\n",
        "    history = model.fit(X_train, y_train, \n",
        "                        epochs=max_epochs, \n",
        "                        validation_data=(X_val, y_val),\n",
        "                        batch_size=batch_size,\n",
        "                        verbose=verbose,\n",
        "                        callbacks=[reduce_lr, early_stopping])\n",
        "\n",
        "    if plot:\n",
        "        plot_training(history=history, model_name=model_name)\n",
        "    \n",
        "    if model_path:\n",
        "      model.save(model_path)\n",
        "      print(f'INFO: model {model_path} saved under {model_path}')\n",
        "\n",
        "    results = model.evaluate(X_test, y_test)\n",
        "    test_loss, test_mae = results[0], results[1]\n",
        "    print(f'INFO: model evaluation on test data:\\n\\tloss: {test_loss}\\n\\tMAE: {test_mae}')"
      ],
      "execution_count": 15,
      "outputs": []
    },
    {
      "cell_type": "markdown",
      "metadata": {
        "id": "V8TFkjbPSHnq"
      },
      "source": [
        "And finally, define a function to plot the model training:"
      ]
    },
    {
      "cell_type": "code",
      "metadata": {
        "id": "e3RqRCYRRLd9"
      },
      "source": [
        "def plot_training(history: History, model_name: str) -> None:\n",
        "    \"\"\" Plot history of model training. The model must contain MAE as a metric.\n",
        "        Saves the plot in the folder `plots_dir` defined in *parameters.py* under the name `model_name`.jpg\n",
        "    Args:\n",
        "        history (tf.keras.callbacks.History): model history resulting from `.fit()`\n",
        "        model_name (str): [description]\n",
        "    \"\"\"\n",
        "    fig, (ax1, ax2) = plt.subplots(2)\n",
        "    fig.suptitle(f'{model_name} training')\n",
        "    \n",
        "    ax1.plot(history.history['mean_absolute_error'])\n",
        "    ax1.plot(history.history['val_mean_absolute_error'])\n",
        "    ax1.set_title(f'{model_name} mean_absolute_error')\n",
        "    ax1.set(xlabel='epoch', ylabel='mean_absolute_error')\n",
        "    ax1.legend(['train', 'val'], loc='upper left')\n",
        "    # summarize history for loss\n",
        "    ax2.plot(history.history['loss'])\n",
        "    ax2.plot(history.history['val_loss'])\n",
        "    ax2.set_title(f'{model_name} loss')\n",
        "    ax2.set(xlabel='epoch', ylabel='loss')\n",
        "    ax2.legend(['train', 'val'], loc='upper left')\n",
        "    \n",
        "    plt.show()"
      ],
      "execution_count": 16,
      "outputs": []
    },
    {
      "cell_type": "markdown",
      "metadata": {
        "id": "v6iG2mDQWMF2"
      },
      "source": [
        "Now combine all this to train the model:"
      ]
    },
    {
      "cell_type": "code",
      "metadata": {
        "colab": {
          "base_uri": "https://localhost:8080/"
        },
        "id": "R_-w5MkOSOEh",
        "outputId": "ed689428-0e2b-432d-d458-53d98d77fc49"
      },
      "source": [
        "model = get_model(n_prior=n_prior, n_features=1, n_to_predict=n_to_predict, n_units=n_units)\n",
        "model.summary()"
      ],
      "execution_count": 17,
      "outputs": [
        {
          "output_type": "stream",
          "text": [
            "Model: \"model\"\n",
            "__________________________________________________________________________________________________\n",
            "Layer (type)                    Output Shape         Param #     Connected to                     \n",
            "==================================================================================================\n",
            "input_1 (InputLayer)            [(None, 21, 1)]      0                                            \n",
            "__________________________________________________________________________________________________\n",
            "gru (GRU)                       [(None, 21, 100), (N 30900       input_1[0][0]                    \n",
            "__________________________________________________________________________________________________\n",
            "tf.expand_dims (TFOpLambda)     (None, 1, 100)       0           gru[0][1]                        \n",
            "__________________________________________________________________________________________________\n",
            "lambda (Lambda)                 (None, 21, 100)      0           gru[0][0]                        \n",
            "                                                                 tf.expand_dims[0][0]             \n",
            "__________________________________________________________________________________________________\n",
            "gru_1 (GRU)                     (None, 100)          60600       lambda[0][0]                     \n",
            "__________________________________________________________________________________________________\n",
            "dense (Dense)                   (None, 64)           6464        gru_1[0][0]                      \n",
            "__________________________________________________________________________________________________\n",
            "dropout (Dropout)               (None, 64)           0           dense[0][0]                      \n",
            "__________________________________________________________________________________________________\n",
            "dense_1 (Dense)                 (None, 14)           910         dropout[0][0]                    \n",
            "==================================================================================================\n",
            "Total params: 98,874\n",
            "Trainable params: 98,874\n",
            "Non-trainable params: 0\n",
            "__________________________________________________________________________________________________\n"
          ],
          "name": "stdout"
        }
      ]
    },
    {
      "cell_type": "code",
      "metadata": {
        "colab": {
          "base_uri": "https://localhost:8080/",
          "height": 1000
        },
        "id": "ZfqW9WHZeEbI",
        "outputId": "f18ef3db-285b-4c78-d6db-090ad177aab3"
      },
      "source": [
        "train_persist_model(model=model, X_train=X_train, X_val=X_val, X_test=X_test, \n",
        "                    y_train=y_train, y_val=y_val, y_test=y_test, \n",
        "                    model_name=f'{stock} {target} price', model_path=model_path, lr=lr, dr=dr,\n",
        "                    max_epochs=max_epochs, patience=patience, \n",
        "                    batch_size=batch_size, plot=True, verbose=1)"
      ],
      "execution_count": 18,
      "outputs": [
        {
          "output_type": "stream",
          "text": [
            "Epoch 1/300\n",
            "22/22 [==============================] - 4s 56ms/step - loss: 1.6631 - mean_absolute_error: 2.1223 - val_loss: 2.3871 - val_mean_absolute_error: 2.8727\n",
            "Epoch 2/300\n",
            "22/22 [==============================] - 1s 36ms/step - loss: 1.5287 - mean_absolute_error: 1.9735 - val_loss: 2.0281 - val_mean_absolute_error: 2.4896\n",
            "Epoch 3/300\n",
            "22/22 [==============================] - 1s 37ms/step - loss: 1.4215 - mean_absolute_error: 1.8515 - val_loss: 1.6598 - val_mean_absolute_error: 2.0737\n",
            "Epoch 4/300\n",
            "22/22 [==============================] - 1s 36ms/step - loss: 1.3099 - mean_absolute_error: 1.7271 - val_loss: 1.4946 - val_mean_absolute_error: 1.8931\n",
            "Epoch 5/300\n",
            "22/22 [==============================] - 1s 36ms/step - loss: 1.2358 - mean_absolute_error: 1.6489 - val_loss: 1.4121 - val_mean_absolute_error: 1.8006\n",
            "Epoch 6/300\n",
            "22/22 [==============================] - 1s 36ms/step - loss: 1.1944 - mean_absolute_error: 1.6064 - val_loss: 1.5767 - val_mean_absolute_error: 1.9942\n",
            "Epoch 7/300\n",
            "22/22 [==============================] - 1s 36ms/step - loss: 1.2002 - mean_absolute_error: 1.6067 - val_loss: 1.4095 - val_mean_absolute_error: 1.8085\n",
            "Epoch 8/300\n",
            "22/22 [==============================] - 1s 35ms/step - loss: 1.1669 - mean_absolute_error: 1.5721 - val_loss: 1.4187 - val_mean_absolute_error: 1.8167\n",
            "Epoch 9/300\n",
            "22/22 [==============================] - 1s 36ms/step - loss: 1.1545 - mean_absolute_error: 1.5563 - val_loss: 1.3519 - val_mean_absolute_error: 1.7381\n",
            "Epoch 10/300\n",
            "22/22 [==============================] - 1s 36ms/step - loss: 1.1459 - mean_absolute_error: 1.5516 - val_loss: 1.3569 - val_mean_absolute_error: 1.7483\n",
            "Epoch 11/300\n",
            "22/22 [==============================] - 1s 38ms/step - loss: 1.1287 - mean_absolute_error: 1.5306 - val_loss: 1.4336 - val_mean_absolute_error: 1.8422\n",
            "Epoch 12/300\n",
            "22/22 [==============================] - 1s 37ms/step - loss: 1.1237 - mean_absolute_error: 1.5233 - val_loss: 1.4069 - val_mean_absolute_error: 1.8086\n",
            "Epoch 13/300\n",
            "22/22 [==============================] - 1s 36ms/step - loss: 1.1270 - mean_absolute_error: 1.5265 - val_loss: 1.3555 - val_mean_absolute_error: 1.7470\n",
            "Epoch 14/300\n",
            "22/22 [==============================] - 1s 36ms/step - loss: 1.1288 - mean_absolute_error: 1.5290 - val_loss: 1.3174 - val_mean_absolute_error: 1.7077\n",
            "Epoch 15/300\n",
            "22/22 [==============================] - 1s 35ms/step - loss: 1.1137 - mean_absolute_error: 1.5130 - val_loss: 1.3559 - val_mean_absolute_error: 1.7482\n",
            "Epoch 16/300\n",
            "22/22 [==============================] - 1s 37ms/step - loss: 1.1202 - mean_absolute_error: 1.5214 - val_loss: 1.3945 - val_mean_absolute_error: 1.7960\n",
            "Epoch 17/300\n",
            "22/22 [==============================] - 1s 36ms/step - loss: 1.1140 - mean_absolute_error: 1.5125 - val_loss: 1.4364 - val_mean_absolute_error: 1.8443\n",
            "Epoch 18/300\n",
            "22/22 [==============================] - 1s 35ms/step - loss: 1.1203 - mean_absolute_error: 1.5200 - val_loss: 1.4222 - val_mean_absolute_error: 1.8280\n",
            "Epoch 19/300\n",
            "22/22 [==============================] - 1s 36ms/step - loss: 1.1273 - mean_absolute_error: 1.5264 - val_loss: 1.3746 - val_mean_absolute_error: 1.7738\n",
            "Epoch 20/300\n",
            "22/22 [==============================] - 1s 36ms/step - loss: 1.1197 - mean_absolute_error: 1.5195 - val_loss: 1.4733 - val_mean_absolute_error: 1.8889\n",
            "Epoch 21/300\n",
            "22/22 [==============================] - 1s 37ms/step - loss: 1.1032 - mean_absolute_error: 1.5004 - val_loss: 1.3980 - val_mean_absolute_error: 1.8020\n",
            "Epoch 22/300\n",
            "22/22 [==============================] - 1s 36ms/step - loss: 1.1122 - mean_absolute_error: 1.5104 - val_loss: 1.4050 - val_mean_absolute_error: 1.8087\n",
            "Epoch 23/300\n",
            "22/22 [==============================] - 1s 36ms/step - loss: 1.1101 - mean_absolute_error: 1.5082 - val_loss: 1.3691 - val_mean_absolute_error: 1.7659\n",
            "Epoch 24/300\n",
            "22/22 [==============================] - 1s 36ms/step - loss: 1.1056 - mean_absolute_error: 1.5044 - val_loss: 1.3819 - val_mean_absolute_error: 1.7805\n"
          ],
          "name": "stdout"
        },
        {
          "output_type": "display_data",
          "data": {
            "image/png": "[encoded data removed]",
            "text/plain": [
              "<Figure size 864x648 with 2 Axes>"
            ]
          },
          "metadata": {
            "tags": [],
            "needs_background": "light"
          }
        },
        {
          "output_type": "stream",
          "text": [
            "7/7 [==============================] - 0s 9ms/step - loss: 0.7421 - mean_absolute_error: 1.1229\n",
            "INFO: model evaluation on test data:\n",
            "\tloss: 0.7421121597290039\n",
            "\tMAE: 1.1229300498962402\n"
          ],
          "name": "stdout"
        }
      ]
    },
    {
      "cell_type": "markdown",
      "metadata": {
        "id": "611SyKwjZ4kG"
      },
      "source": [
        "## Make prediction"
      ]
    },
    {
      "cell_type": "code",
      "metadata": {
        "id": "Vn-peZHKaQn8"
      },
      "source": [
        "def generate_prediction(predict_from: str, stock: str, target: str, model: Model, \n",
        "                        n_prior: int = 21, valid: bool = False) -> None:\n",
        "  \"\"\" Generate predictions from the date `predict_from` based on the `n_prior` \n",
        "  previous values for the price `target` of `stock`\n",
        "    Args:\n",
        "        predict_from (str): format 'yyyy-mm-dd', date after which the predictions will start\n",
        "        stock (str): code of the stock on Yahoo Finance\n",
        "        target (str): target price to predict (e.g. 'Close')\n",
        "        model (Model): Tensorflow model trained for making predictions\n",
        "        n_prior (int): number of previous values to use for the prediction \n",
        "            (must be the same than the one used to train the `model`)\n",
        "        valid (bool): if to plot the actual vs. the predicted values \n",
        "            (only if the prediction time range lies in the past)\n",
        "    \"\"\"\n",
        "  predict_from_dt = datetime.strptime(predict_from, '%Y-%m-%d')\n",
        "  start_dt = predict_from_dt - timedelta(days=n_prior + 10)\n",
        "  start = start_dt.strftime('%Y-%m-%d')\n",
        "  data = yf.download(tickers=stock, period='1d', start=start, end=predict_from)\n",
        "  data = data[target]\n",
        "  # Normalize\n",
        "  mean, std = data.mean(), data.std()\n",
        "  data = (data - mean) / std\n",
        "  data = data.values[data.shape[0] - n_prior:].reshape(1, -1, 1)\n",
        "\n",
        "  predictions = model.predict(data)\n",
        "  predictions = predictions * std + mean # de-normalize\n",
        "  predictions = predictions.flatten()\n",
        "  prediction_dates = [predict_from_dt + timedelta(days=i+1) for i in range(predictions.shape[0])]\n",
        "  predictions = DataFrame({'date': prediction_dates, 'prediction': predictions})\n",
        "  predictions = predictions.set_index('date')\n",
        "  if valid:\n",
        "    start_valid = predict_from_dt + timedelta(days=1)\n",
        "    end_valid = predict_from_dt + timedelta(predictions.shape[0] + 10)\n",
        "    start_valid = start_valid.strftime('%Y-%m-%d')\n",
        "    end_valid = end_valid.strftime('%Y-%m-%d')\n",
        "    true_values = yf.download(tickers=stock, period='1d', start=start_valid, end=end_valid)\n",
        "    true_values = true_values[[target]].loc[:predictions.index.max(),:]\n",
        "    fig, ax = plt.subplots(1)\n",
        "    ax.plot(true_values, label='actual')\n",
        "    ax.plot(predictions, label='predicted')\n",
        "    ax.set_title(f'Actual vs. Prediction for stock {stock} between {start_valid} and {end_valid}')\n",
        "    ax.set(xlabel='day', ylabel=f'{stock} ${target} price ($)')\n",
        "    ax.legend()\n",
        "    plt.show()\n",
        "  return predictions"
      ],
      "execution_count": 19,
      "outputs": []
    },
    {
      "cell_type": "code",
      "metadata": {
        "colab": {
          "base_uri": "https://localhost:8080/",
          "height": 602
        },
        "id": "QzXZGuIaaWTW",
        "outputId": "b0c92059-708c-4c9a-b128-1aa6ec2c875d"
      },
      "source": [
        "predict_from = '2021-05-10'\n",
        "predictions = generate_prediction(predict_from=predict_from, stock=stock, \n",
        "                                  target=target, model=model, n_prior=n_prior, \n",
        "                                  valid=True)"
      ],
      "execution_count": 21,
      "outputs": [
        {
          "output_type": "stream",
          "text": [
            "[*********************100%***********************]  1 of 1 completed\n",
            "[*********************100%***********************]  1 of 1 completed\n"
          ],
          "name": "stdout"
        },
        {
          "output_type": "display_data",
          "data": {
            "image/png": "[encoded data removed]",
            "text/plain": [
              "<Figure size 864x648 with 1 Axes>"
            ]
          },
          "metadata": {
            "tags": [],
            "needs_background": "light"
          }
        }
      ]
    },
    {
      "cell_type": "code",
      "metadata": {
        "id": "__MswHX8bH_Z"
      },
      "source": [
        "predictions"
      ],
      "execution_count": null,
      "outputs": []
    },
    {
      "cell_type": "code",
      "metadata": {
        "id": "w9Zvkh8K03e9"
      },
      "source": [
        ""
      ],
      "execution_count": null,
      "outputs": []
    }
  ]
}